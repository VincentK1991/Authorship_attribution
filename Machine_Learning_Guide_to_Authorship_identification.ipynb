{
  "nbformat": 4,
  "nbformat_minor": 0,
  "metadata": {
    "colab": {
      "name": "Machine_Learning_Guide_to_Authorship_identification.ipynb",
      "provenance": [],
      "toc_visible": true,
      "mount_file_id": "1O4bM-t1xZRtFWeKVJNzQ1Byj41UOfsqP",
      "authorship_tag": "ABX9TyPxvAl+pNMsrvFbL2sjUjms",
      "include_colab_link": true
    },
    "kernelspec": {
      "name": "python3",
      "display_name": "Python 3"
    },
    "widgets": {
      "application/vnd.jupyter.widget-state+json": {
        "435077a934514290beab55b75d0fa78b": {
          "model_module": "@jupyter-widgets/controls",
          "model_name": "HBoxModel",
          "state": {
            "_view_name": "HBoxView",
            "_dom_classes": [],
            "_model_name": "HBoxModel",
            "_view_module": "@jupyter-widgets/controls",
            "_model_module_version": "1.5.0",
            "_view_count": null,
            "_view_module_version": "1.5.0",
            "box_style": "",
            "layout": "IPY_MODEL_20ded56132d94ebba778351a4a028fcb",
            "_model_module": "@jupyter-widgets/controls",
            "children": [
              "IPY_MODEL_8e7da2059d49492eaa24ff8772f17b7d",
              "IPY_MODEL_883a9003f7474ba493cefe4dd29bf375"
            ]
          }
        },
        "20ded56132d94ebba778351a4a028fcb": {
          "model_module": "@jupyter-widgets/base",
          "model_name": "LayoutModel",
          "state": {
            "_view_name": "LayoutView",
            "grid_template_rows": null,
            "right": null,
            "justify_content": null,
            "_view_module": "@jupyter-widgets/base",
            "overflow": null,
            "_model_module_version": "1.2.0",
            "_view_count": null,
            "flex_flow": null,
            "width": null,
            "min_width": null,
            "border": null,
            "align_items": null,
            "bottom": null,
            "_model_module": "@jupyter-widgets/base",
            "top": null,
            "grid_column": null,
            "overflow_y": null,
            "overflow_x": null,
            "grid_auto_flow": null,
            "grid_area": null,
            "grid_template_columns": null,
            "flex": null,
            "_model_name": "LayoutModel",
            "justify_items": null,
            "grid_row": null,
            "max_height": null,
            "align_content": null,
            "visibility": null,
            "align_self": null,
            "height": null,
            "min_height": null,
            "padding": null,
            "grid_auto_rows": null,
            "grid_gap": null,
            "max_width": null,
            "order": null,
            "_view_module_version": "1.2.0",
            "grid_template_areas": null,
            "object_position": null,
            "object_fit": null,
            "grid_auto_columns": null,
            "margin": null,
            "display": null,
            "left": null
          }
        },
        "8e7da2059d49492eaa24ff8772f17b7d": {
          "model_module": "@jupyter-widgets/controls",
          "model_name": "IntProgressModel",
          "state": {
            "_view_name": "ProgressView",
            "style": "IPY_MODEL_1c4da6cab3ea40768e8da23754b25ba3",
            "_dom_classes": [],
            "description": "Downloading: 100%",
            "_model_name": "IntProgressModel",
            "bar_style": "success",
            "max": 231508,
            "_view_module": "@jupyter-widgets/controls",
            "_model_module_version": "1.5.0",
            "value": 231508,
            "_view_count": null,
            "_view_module_version": "1.5.0",
            "orientation": "horizontal",
            "min": 0,
            "description_tooltip": null,
            "_model_module": "@jupyter-widgets/controls",
            "layout": "IPY_MODEL_897ec8088d6e4e7397f962350fad379b"
          }
        },
        "883a9003f7474ba493cefe4dd29bf375": {
          "model_module": "@jupyter-widgets/controls",
          "model_name": "HTMLModel",
          "state": {
            "_view_name": "HTMLView",
            "style": "IPY_MODEL_1611a20069824d3496897f18d37462f2",
            "_dom_classes": [],
            "description": "",
            "_model_name": "HTMLModel",
            "placeholder": "​",
            "_view_module": "@jupyter-widgets/controls",
            "_model_module_version": "1.5.0",
            "value": " 232k/232k [00:00&lt;00:00, 373kB/s]",
            "_view_count": null,
            "_view_module_version": "1.5.0",
            "description_tooltip": null,
            "_model_module": "@jupyter-widgets/controls",
            "layout": "IPY_MODEL_dce497a099cb4ad2bf7f7a064060c10f"
          }
        },
        "1c4da6cab3ea40768e8da23754b25ba3": {
          "model_module": "@jupyter-widgets/controls",
          "model_name": "ProgressStyleModel",
          "state": {
            "_view_name": "StyleView",
            "_model_name": "ProgressStyleModel",
            "description_width": "initial",
            "_view_module": "@jupyter-widgets/base",
            "_model_module_version": "1.5.0",
            "_view_count": null,
            "_view_module_version": "1.2.0",
            "bar_color": null,
            "_model_module": "@jupyter-widgets/controls"
          }
        },
        "897ec8088d6e4e7397f962350fad379b": {
          "model_module": "@jupyter-widgets/base",
          "model_name": "LayoutModel",
          "state": {
            "_view_name": "LayoutView",
            "grid_template_rows": null,
            "right": null,
            "justify_content": null,
            "_view_module": "@jupyter-widgets/base",
            "overflow": null,
            "_model_module_version": "1.2.0",
            "_view_count": null,
            "flex_flow": null,
            "width": null,
            "min_width": null,
            "border": null,
            "align_items": null,
            "bottom": null,
            "_model_module": "@jupyter-widgets/base",
            "top": null,
            "grid_column": null,
            "overflow_y": null,
            "overflow_x": null,
            "grid_auto_flow": null,
            "grid_area": null,
            "grid_template_columns": null,
            "flex": null,
            "_model_name": "LayoutModel",
            "justify_items": null,
            "grid_row": null,
            "max_height": null,
            "align_content": null,
            "visibility": null,
            "align_self": null,
            "height": null,
            "min_height": null,
            "padding": null,
            "grid_auto_rows": null,
            "grid_gap": null,
            "max_width": null,
            "order": null,
            "_view_module_version": "1.2.0",
            "grid_template_areas": null,
            "object_position": null,
            "object_fit": null,
            "grid_auto_columns": null,
            "margin": null,
            "display": null,
            "left": null
          }
        },
        "1611a20069824d3496897f18d37462f2": {
          "model_module": "@jupyter-widgets/controls",
          "model_name": "DescriptionStyleModel",
          "state": {
            "_view_name": "StyleView",
            "_model_name": "DescriptionStyleModel",
            "description_width": "",
            "_view_module": "@jupyter-widgets/base",
            "_model_module_version": "1.5.0",
            "_view_count": null,
            "_view_module_version": "1.2.0",
            "_model_module": "@jupyter-widgets/controls"
          }
        },
        "dce497a099cb4ad2bf7f7a064060c10f": {
          "model_module": "@jupyter-widgets/base",
          "model_name": "LayoutModel",
          "state": {
            "_view_name": "LayoutView",
            "grid_template_rows": null,
            "right": null,
            "justify_content": null,
            "_view_module": "@jupyter-widgets/base",
            "overflow": null,
            "_model_module_version": "1.2.0",
            "_view_count": null,
            "flex_flow": null,
            "width": null,
            "min_width": null,
            "border": null,
            "align_items": null,
            "bottom": null,
            "_model_module": "@jupyter-widgets/base",
            "top": null,
            "grid_column": null,
            "overflow_y": null,
            "overflow_x": null,
            "grid_auto_flow": null,
            "grid_area": null,
            "grid_template_columns": null,
            "flex": null,
            "_model_name": "LayoutModel",
            "justify_items": null,
            "grid_row": null,
            "max_height": null,
            "align_content": null,
            "visibility": null,
            "align_self": null,
            "height": null,
            "min_height": null,
            "padding": null,
            "grid_auto_rows": null,
            "grid_gap": null,
            "max_width": null,
            "order": null,
            "_view_module_version": "1.2.0",
            "grid_template_areas": null,
            "object_position": null,
            "object_fit": null,
            "grid_auto_columns": null,
            "margin": null,
            "display": null,
            "left": null
          }
        },
        "7e76b3c8b80e47ef88ce6995b02c64eb": {
          "model_module": "@jupyter-widgets/controls",
          "model_name": "HBoxModel",
          "state": {
            "_view_name": "HBoxView",
            "_dom_classes": [],
            "_model_name": "HBoxModel",
            "_view_module": "@jupyter-widgets/controls",
            "_model_module_version": "1.5.0",
            "_view_count": null,
            "_view_module_version": "1.5.0",
            "box_style": "",
            "layout": "IPY_MODEL_019feba27e704a94b624c1ab61c7c42e",
            "_model_module": "@jupyter-widgets/controls",
            "children": [
              "IPY_MODEL_8f6b2b1ea6b14411a656df437b22de51",
              "IPY_MODEL_0fc801e031b445a5a2d5f380564329ee"
            ]
          }
        },
        "019feba27e704a94b624c1ab61c7c42e": {
          "model_module": "@jupyter-widgets/base",
          "model_name": "LayoutModel",
          "state": {
            "_view_name": "LayoutView",
            "grid_template_rows": null,
            "right": null,
            "justify_content": null,
            "_view_module": "@jupyter-widgets/base",
            "overflow": null,
            "_model_module_version": "1.2.0",
            "_view_count": null,
            "flex_flow": null,
            "width": null,
            "min_width": null,
            "border": null,
            "align_items": null,
            "bottom": null,
            "_model_module": "@jupyter-widgets/base",
            "top": null,
            "grid_column": null,
            "overflow_y": null,
            "overflow_x": null,
            "grid_auto_flow": null,
            "grid_area": null,
            "grid_template_columns": null,
            "flex": null,
            "_model_name": "LayoutModel",
            "justify_items": null,
            "grid_row": null,
            "max_height": null,
            "align_content": null,
            "visibility": null,
            "align_self": null,
            "height": null,
            "min_height": null,
            "padding": null,
            "grid_auto_rows": null,
            "grid_gap": null,
            "max_width": null,
            "order": null,
            "_view_module_version": "1.2.0",
            "grid_template_areas": null,
            "object_position": null,
            "object_fit": null,
            "grid_auto_columns": null,
            "margin": null,
            "display": null,
            "left": null
          }
        },
        "8f6b2b1ea6b14411a656df437b22de51": {
          "model_module": "@jupyter-widgets/controls",
          "model_name": "IntProgressModel",
          "state": {
            "_view_name": "ProgressView",
            "style": "IPY_MODEL_2c4d0a28136d4565b67c1d80468fad58",
            "_dom_classes": [],
            "description": "Downloading: 100%",
            "_model_name": "IntProgressModel",
            "bar_style": "success",
            "max": 361,
            "_view_module": "@jupyter-widgets/controls",
            "_model_module_version": "1.5.0",
            "value": 361,
            "_view_count": null,
            "_view_module_version": "1.5.0",
            "orientation": "horizontal",
            "min": 0,
            "description_tooltip": null,
            "_model_module": "@jupyter-widgets/controls",
            "layout": "IPY_MODEL_e79cfcef863147579fb81e829687fe5e"
          }
        },
        "0fc801e031b445a5a2d5f380564329ee": {
          "model_module": "@jupyter-widgets/controls",
          "model_name": "HTMLModel",
          "state": {
            "_view_name": "HTMLView",
            "style": "IPY_MODEL_c3edfb721ddc41ecaeaeda1b488a6dce",
            "_dom_classes": [],
            "description": "",
            "_model_name": "HTMLModel",
            "placeholder": "​",
            "_view_module": "@jupyter-widgets/controls",
            "_model_module_version": "1.5.0",
            "value": " 361/361 [00:01&lt;00:00, 229B/s]",
            "_view_count": null,
            "_view_module_version": "1.5.0",
            "description_tooltip": null,
            "_model_module": "@jupyter-widgets/controls",
            "layout": "IPY_MODEL_bb56c0a2160f4c5faf1e9bce1e3a32c6"
          }
        },
        "2c4d0a28136d4565b67c1d80468fad58": {
          "model_module": "@jupyter-widgets/controls",
          "model_name": "ProgressStyleModel",
          "state": {
            "_view_name": "StyleView",
            "_model_name": "ProgressStyleModel",
            "description_width": "initial",
            "_view_module": "@jupyter-widgets/base",
            "_model_module_version": "1.5.0",
            "_view_count": null,
            "_view_module_version": "1.2.0",
            "bar_color": null,
            "_model_module": "@jupyter-widgets/controls"
          }
        },
        "e79cfcef863147579fb81e829687fe5e": {
          "model_module": "@jupyter-widgets/base",
          "model_name": "LayoutModel",
          "state": {
            "_view_name": "LayoutView",
            "grid_template_rows": null,
            "right": null,
            "justify_content": null,
            "_view_module": "@jupyter-widgets/base",
            "overflow": null,
            "_model_module_version": "1.2.0",
            "_view_count": null,
            "flex_flow": null,
            "width": null,
            "min_width": null,
            "border": null,
            "align_items": null,
            "bottom": null,
            "_model_module": "@jupyter-widgets/base",
            "top": null,
            "grid_column": null,
            "overflow_y": null,
            "overflow_x": null,
            "grid_auto_flow": null,
            "grid_area": null,
            "grid_template_columns": null,
            "flex": null,
            "_model_name": "LayoutModel",
            "justify_items": null,
            "grid_row": null,
            "max_height": null,
            "align_content": null,
            "visibility": null,
            "align_self": null,
            "height": null,
            "min_height": null,
            "padding": null,
            "grid_auto_rows": null,
            "grid_gap": null,
            "max_width": null,
            "order": null,
            "_view_module_version": "1.2.0",
            "grid_template_areas": null,
            "object_position": null,
            "object_fit": null,
            "grid_auto_columns": null,
            "margin": null,
            "display": null,
            "left": null
          }
        },
        "c3edfb721ddc41ecaeaeda1b488a6dce": {
          "model_module": "@jupyter-widgets/controls",
          "model_name": "DescriptionStyleModel",
          "state": {
            "_view_name": "StyleView",
            "_model_name": "DescriptionStyleModel",
            "description_width": "",
            "_view_module": "@jupyter-widgets/base",
            "_model_module_version": "1.5.0",
            "_view_count": null,
            "_view_module_version": "1.2.0",
            "_model_module": "@jupyter-widgets/controls"
          }
        },
        "bb56c0a2160f4c5faf1e9bce1e3a32c6": {
          "model_module": "@jupyter-widgets/base",
          "model_name": "LayoutModel",
          "state": {
            "_view_name": "LayoutView",
            "grid_template_rows": null,
            "right": null,
            "justify_content": null,
            "_view_module": "@jupyter-widgets/base",
            "overflow": null,
            "_model_module_version": "1.2.0",
            "_view_count": null,
            "flex_flow": null,
            "width": null,
            "min_width": null,
            "border": null,
            "align_items": null,
            "bottom": null,
            "_model_module": "@jupyter-widgets/base",
            "top": null,
            "grid_column": null,
            "overflow_y": null,
            "overflow_x": null,
            "grid_auto_flow": null,
            "grid_area": null,
            "grid_template_columns": null,
            "flex": null,
            "_model_name": "LayoutModel",
            "justify_items": null,
            "grid_row": null,
            "max_height": null,
            "align_content": null,
            "visibility": null,
            "align_self": null,
            "height": null,
            "min_height": null,
            "padding": null,
            "grid_auto_rows": null,
            "grid_gap": null,
            "max_width": null,
            "order": null,
            "_view_module_version": "1.2.0",
            "grid_template_areas": null,
            "object_position": null,
            "object_fit": null,
            "grid_auto_columns": null,
            "margin": null,
            "display": null,
            "left": null
          }
        },
        "d952ae7c9dcb43abbaac2c79a6d3bfcc": {
          "model_module": "@jupyter-widgets/controls",
          "model_name": "HBoxModel",
          "state": {
            "_view_name": "HBoxView",
            "_dom_classes": [],
            "_model_name": "HBoxModel",
            "_view_module": "@jupyter-widgets/controls",
            "_model_module_version": "1.5.0",
            "_view_count": null,
            "_view_module_version": "1.5.0",
            "box_style": "",
            "layout": "IPY_MODEL_9b1c5ca3e949471bad205c82f5a7b50b",
            "_model_module": "@jupyter-widgets/controls",
            "children": [
              "IPY_MODEL_063767b2f78d409f9437be83a27e2d9e",
              "IPY_MODEL_faab788fb8d1452aaf469674aca8a10c"
            ]
          }
        },
        "9b1c5ca3e949471bad205c82f5a7b50b": {
          "model_module": "@jupyter-widgets/base",
          "model_name": "LayoutModel",
          "state": {
            "_view_name": "LayoutView",
            "grid_template_rows": null,
            "right": null,
            "justify_content": null,
            "_view_module": "@jupyter-widgets/base",
            "overflow": null,
            "_model_module_version": "1.2.0",
            "_view_count": null,
            "flex_flow": null,
            "width": null,
            "min_width": null,
            "border": null,
            "align_items": null,
            "bottom": null,
            "_model_module": "@jupyter-widgets/base",
            "top": null,
            "grid_column": null,
            "overflow_y": null,
            "overflow_x": null,
            "grid_auto_flow": null,
            "grid_area": null,
            "grid_template_columns": null,
            "flex": null,
            "_model_name": "LayoutModel",
            "justify_items": null,
            "grid_row": null,
            "max_height": null,
            "align_content": null,
            "visibility": null,
            "align_self": null,
            "height": null,
            "min_height": null,
            "padding": null,
            "grid_auto_rows": null,
            "grid_gap": null,
            "max_width": null,
            "order": null,
            "_view_module_version": "1.2.0",
            "grid_template_areas": null,
            "object_position": null,
            "object_fit": null,
            "grid_auto_columns": null,
            "margin": null,
            "display": null,
            "left": null
          }
        },
        "063767b2f78d409f9437be83a27e2d9e": {
          "model_module": "@jupyter-widgets/controls",
          "model_name": "IntProgressModel",
          "state": {
            "_view_name": "ProgressView",
            "style": "IPY_MODEL_80262141e6ec475aa4abeaea8fe8af78",
            "_dom_classes": [],
            "description": "Downloading: 100%",
            "_model_name": "IntProgressModel",
            "bar_style": "success",
            "max": 440473133,
            "_view_module": "@jupyter-widgets/controls",
            "_model_module_version": "1.5.0",
            "value": 440473133,
            "_view_count": null,
            "_view_module_version": "1.5.0",
            "orientation": "horizontal",
            "min": 0,
            "description_tooltip": null,
            "_model_module": "@jupyter-widgets/controls",
            "layout": "IPY_MODEL_60172a56642b4f8085a649aa1548d7f5"
          }
        },
        "faab788fb8d1452aaf469674aca8a10c": {
          "model_module": "@jupyter-widgets/controls",
          "model_name": "HTMLModel",
          "state": {
            "_view_name": "HTMLView",
            "style": "IPY_MODEL_4daf7cd67a3447658ab6027d4cb5e0ec",
            "_dom_classes": [],
            "description": "",
            "_model_name": "HTMLModel",
            "placeholder": "​",
            "_view_module": "@jupyter-widgets/controls",
            "_model_module_version": "1.5.0",
            "value": " 440M/440M [00:43&lt;00:00, 10.1MB/s]",
            "_view_count": null,
            "_view_module_version": "1.5.0",
            "description_tooltip": null,
            "_model_module": "@jupyter-widgets/controls",
            "layout": "IPY_MODEL_2b7e4bc5fb6540a08da8ffd675346feb"
          }
        },
        "80262141e6ec475aa4abeaea8fe8af78": {
          "model_module": "@jupyter-widgets/controls",
          "model_name": "ProgressStyleModel",
          "state": {
            "_view_name": "StyleView",
            "_model_name": "ProgressStyleModel",
            "description_width": "initial",
            "_view_module": "@jupyter-widgets/base",
            "_model_module_version": "1.5.0",
            "_view_count": null,
            "_view_module_version": "1.2.0",
            "bar_color": null,
            "_model_module": "@jupyter-widgets/controls"
          }
        },
        "60172a56642b4f8085a649aa1548d7f5": {
          "model_module": "@jupyter-widgets/base",
          "model_name": "LayoutModel",
          "state": {
            "_view_name": "LayoutView",
            "grid_template_rows": null,
            "right": null,
            "justify_content": null,
            "_view_module": "@jupyter-widgets/base",
            "overflow": null,
            "_model_module_version": "1.2.0",
            "_view_count": null,
            "flex_flow": null,
            "width": null,
            "min_width": null,
            "border": null,
            "align_items": null,
            "bottom": null,
            "_model_module": "@jupyter-widgets/base",
            "top": null,
            "grid_column": null,
            "overflow_y": null,
            "overflow_x": null,
            "grid_auto_flow": null,
            "grid_area": null,
            "grid_template_columns": null,
            "flex": null,
            "_model_name": "LayoutModel",
            "justify_items": null,
            "grid_row": null,
            "max_height": null,
            "align_content": null,
            "visibility": null,
            "align_self": null,
            "height": null,
            "min_height": null,
            "padding": null,
            "grid_auto_rows": null,
            "grid_gap": null,
            "max_width": null,
            "order": null,
            "_view_module_version": "1.2.0",
            "grid_template_areas": null,
            "object_position": null,
            "object_fit": null,
            "grid_auto_columns": null,
            "margin": null,
            "display": null,
            "left": null
          }
        },
        "4daf7cd67a3447658ab6027d4cb5e0ec": {
          "model_module": "@jupyter-widgets/controls",
          "model_name": "DescriptionStyleModel",
          "state": {
            "_view_name": "StyleView",
            "_model_name": "DescriptionStyleModel",
            "description_width": "",
            "_view_module": "@jupyter-widgets/base",
            "_model_module_version": "1.5.0",
            "_view_count": null,
            "_view_module_version": "1.2.0",
            "_model_module": "@jupyter-widgets/controls"
          }
        },
        "2b7e4bc5fb6540a08da8ffd675346feb": {
          "model_module": "@jupyter-widgets/base",
          "model_name": "LayoutModel",
          "state": {
            "_view_name": "LayoutView",
            "grid_template_rows": null,
            "right": null,
            "justify_content": null,
            "_view_module": "@jupyter-widgets/base",
            "overflow": null,
            "_model_module_version": "1.2.0",
            "_view_count": null,
            "flex_flow": null,
            "width": null,
            "min_width": null,
            "border": null,
            "align_items": null,
            "bottom": null,
            "_model_module": "@jupyter-widgets/base",
            "top": null,
            "grid_column": null,
            "overflow_y": null,
            "overflow_x": null,
            "grid_auto_flow": null,
            "grid_area": null,
            "grid_template_columns": null,
            "flex": null,
            "_model_name": "LayoutModel",
            "justify_items": null,
            "grid_row": null,
            "max_height": null,
            "align_content": null,
            "visibility": null,
            "align_self": null,
            "height": null,
            "min_height": null,
            "padding": null,
            "grid_auto_rows": null,
            "grid_gap": null,
            "max_width": null,
            "order": null,
            "_view_module_version": "1.2.0",
            "grid_template_areas": null,
            "object_position": null,
            "object_fit": null,
            "grid_auto_columns": null,
            "margin": null,
            "display": null,
            "left": null
          }
        }
      }
    },
    "accelerator": "GPU"
  },
  "cells": [
    {
      "cell_type": "markdown",
      "metadata": {
        "id": "view-in-github",
        "colab_type": "text"
      },
      "source": [
        "<a href=\"https://colab.research.google.com/github/VincentK1991/Authorship_attribution/blob/master/Machine_Learning_Guide_to_Authorship_identification.ipynb\" target=\"_parent\"><img src=\"https://colab.research.google.com/assets/colab-badge.svg\" alt=\"Open In Colab\"/></a>"
      ]
    },
    {
      "cell_type": "markdown",
      "metadata": {
        "id": "-_83zDSBxxQC",
        "colab_type": "text"
      },
      "source": [
        "#0. Introduction\n",
        "\n",
        "we're going to explore NLP problem of authorship attribution. The task is to identify who the author is from the text. We are going to treat this as a text classification problem, where we train a classification model on a training set (i.e. the set of texts you know for sure who wrote them), then apply the model on a set where you don't know.\n",
        "\n",
        "We will use a dataset from this [kaggle](https://www.kaggle.com/c/spooky-author-identification). The dataset contains texts from books written by one of the 3 horror writers, H.P. Lovecraft, Edgar Allen Poe, or Mary Shelley. So our task is to classify who wrote which text. A nice thing about this dataset is that besides it being multi-class classification is that since all three of them write in horror genre, the content may be relatively of the same moods and tones. So one might say, it's harder to differentiate, than let's say a horror writer from a romance writer.\n",
        "\n",
        "We will explore 4 ML approaches\n",
        "\n",
        "1. TF-IDF and regularized regression\n",
        "\n",
        "2. Naive Bayes classifier\n",
        "\n",
        "3. recurrent neural network\n",
        "\n",
        "4. BERT classification"
      ]
    },
    {
      "cell_type": "markdown",
      "metadata": {
        "id": "epGj5Os7X4VJ",
        "colab_type": "text"
      },
      "source": [
        "# 1. Data exploration"
      ]
    },
    {
      "cell_type": "code",
      "metadata": {
        "id": "O6DuznurXqsH",
        "colab_type": "code",
        "colab": {
          "base_uri": "https://localhost:8080/",
          "height": 70
        },
        "outputId": "ee0bd8f0-af2f-4ba5-e7db-7a3aa8cd02ea"
      },
      "source": [
        "import numpy as np\n",
        "import pandas as pd\n",
        "import seaborn as sns\n",
        "from matplotlib import pyplot as plt\n",
        "from sklearn.model_selection import train_test_split"
      ],
      "execution_count": 3,
      "outputs": [
        {
          "output_type": "stream",
          "text": [
            "/usr/local/lib/python3.6/dist-packages/statsmodels/tools/_testing.py:19: FutureWarning: pandas.util.testing is deprecated. Use the functions in the public API at pandas.testing instead.\n",
            "  import pandas.util.testing as tm\n"
          ],
          "name": "stderr"
        }
      ]
    },
    {
      "cell_type": "code",
      "metadata": {
        "id": "5wGCdGBhYXWx",
        "colab_type": "code",
        "colab": {}
      },
      "source": [
        "train_df = pd.read_csv('spooky-author-identification/train.csv')"
      ],
      "execution_count": 0,
      "outputs": []
    },
    {
      "cell_type": "markdown",
      "metadata": {
        "id": "S8GIhevv165I",
        "colab_type": "text"
      },
      "source": [
        "One thing we need to check is whether the classes are balanced. Training on imbalanced data can lead to model bias. So we will do sub-sampling so each class has equal data."
      ]
    },
    {
      "cell_type": "code",
      "metadata": {
        "id": "lJnvP0K8Yf-w",
        "colab_type": "code",
        "outputId": "da089e69-7dba-45d2-e417-8f9759838291",
        "colab": {
          "base_uri": "https://localhost:8080/"
        }
      },
      "source": [
        "train_df['author'].value_counts()"
      ],
      "execution_count": 0,
      "outputs": [
        {
          "output_type": "execute_result",
          "data": {
            "text/plain": [
              "EAP    7900\n",
              "MWS    6044\n",
              "HPL    5635\n",
              "Name: author, dtype: int64"
            ]
          },
          "metadata": {
            "tags": []
          },
          "execution_count": 5
        }
      ]
    },
    {
      "cell_type": "code",
      "metadata": {
        "id": "5o0QmkyNZFro",
        "colab_type": "code",
        "colab": {}
      },
      "source": [
        "g = train_df.groupby('author')\n",
        "train_resampled = g.apply(lambda x: x.sample(g.size().min()).reset_index(drop=True))"
      ],
      "execution_count": 0,
      "outputs": []
    },
    {
      "cell_type": "code",
      "metadata": {
        "id": "GLUn2YqWYg1i",
        "colab_type": "code",
        "outputId": "43e6935f-c7d0-472d-d97f-3bc374690974",
        "colab": {
          "base_uri": "https://localhost:8080/"
        }
      },
      "source": [
        "train_resampled.author.value_counts()"
      ],
      "execution_count": 0,
      "outputs": [
        {
          "output_type": "execute_result",
          "data": {
            "text/plain": [
              "MWS    5635\n",
              "HPL    5635\n",
              "EAP    5635\n",
              "Name: author, dtype: int64"
            ]
          },
          "metadata": {
            "tags": []
          },
          "execution_count": 7
        }
      ]
    },
    {
      "cell_type": "markdown",
      "metadata": {
        "id": "Ox4A88Zq5FA5",
        "colab_type": "text"
      },
      "source": [
        "We will change the author label to numeric"
      ]
    },
    {
      "cell_type": "code",
      "metadata": {
        "id": "ufuMEmPha4Ik",
        "colab_type": "code",
        "colab": {}
      },
      "source": [
        "train_resampled['author'] = np.where(train_resampled['author'] == 'EAP',0,\n",
        "                                     np.where(train_resampled['author'] == 'HPL',1,2))"
      ],
      "execution_count": 0,
      "outputs": []
    },
    {
      "cell_type": "code",
      "metadata": {
        "id": "_5GRpH17bOSZ",
        "colab_type": "code",
        "outputId": "3515678f-cc49-4bc2-9947-ae6b4bf7e472",
        "colab": {
          "base_uri": "https://localhost:8080/"
        }
      },
      "source": [
        "train_resampled.tail()"
      ],
      "execution_count": 0,
      "outputs": [
        {
          "output_type": "execute_result",
          "data": {
            "text/html": [
              "<div>\n",
              "<style scoped>\n",
              "    .dataframe tbody tr th:only-of-type {\n",
              "        vertical-align: middle;\n",
              "    }\n",
              "\n",
              "    .dataframe tbody tr th {\n",
              "        vertical-align: top;\n",
              "    }\n",
              "\n",
              "    .dataframe thead th {\n",
              "        text-align: right;\n",
              "    }\n",
              "</style>\n",
              "<table border=\"1\" class=\"dataframe\">\n",
              "  <thead>\n",
              "    <tr style=\"text-align: right;\">\n",
              "      <th></th>\n",
              "      <th></th>\n",
              "      <th>id</th>\n",
              "      <th>text</th>\n",
              "      <th>author</th>\n",
              "    </tr>\n",
              "    <tr>\n",
              "      <th>author</th>\n",
              "      <th></th>\n",
              "      <th></th>\n",
              "      <th></th>\n",
              "      <th></th>\n",
              "    </tr>\n",
              "  </thead>\n",
              "  <tbody>\n",
              "    <tr>\n",
              "      <th rowspan=\"5\" valign=\"top\">MWS</th>\n",
              "      <th>5630</th>\n",
              "      <td>id11811</td>\n",
              "      <td>Unable to endure the aspect of the being I had...</td>\n",
              "      <td>2</td>\n",
              "    </tr>\n",
              "    <tr>\n",
              "      <th>5631</th>\n",
              "      <td>id12409</td>\n",
              "      <td>I thought with a sensation of madness on my pr...</td>\n",
              "      <td>2</td>\n",
              "    </tr>\n",
              "    <tr>\n",
              "      <th>5632</th>\n",
              "      <td>id10423</td>\n",
              "      <td>But if his countenance was more sorrowful, his...</td>\n",
              "      <td>2</td>\n",
              "    </tr>\n",
              "    <tr>\n",
              "      <th>5633</th>\n",
              "      <td>id27947</td>\n",
              "      <td>Adrian was now fifteen years of age.</td>\n",
              "      <td>2</td>\n",
              "    </tr>\n",
              "    <tr>\n",
              "      <th>5634</th>\n",
              "      <td>id14473</td>\n",
              "      <td>My thoughts were sad and solemn, yet not of un...</td>\n",
              "      <td>2</td>\n",
              "    </tr>\n",
              "  </tbody>\n",
              "</table>\n",
              "</div>"
            ],
            "text/plain": [
              "                  id                                               text  author\n",
              "author                                                                         \n",
              "MWS    5630  id11811  Unable to endure the aspect of the being I had...       2\n",
              "       5631  id12409  I thought with a sensation of madness on my pr...       2\n",
              "       5632  id10423  But if his countenance was more sorrowful, his...       2\n",
              "       5633  id27947               Adrian was now fifteen years of age.       2\n",
              "       5634  id14473  My thoughts were sad and solemn, yet not of un...       2"
            ]
          },
          "metadata": {
            "tags": []
          },
          "execution_count": 10
        }
      ]
    },
    {
      "cell_type": "markdown",
      "metadata": {
        "id": "y3gRuNjjaXDa",
        "colab_type": "text"
      },
      "source": [
        "# 2. TFIDF-regression\n",
        "\n",
        "\n",
        "The first approach we will consider is a more traditional ML model, namely, TF-IDF and regression. I have written elsewhere about how TF-IDF works. But to explain briefly, TFIDF weigh the frequency of words in the corpus against number of documents in the corpus that contain the word. That idea being words that appear often equally across documents are not useful for the purpose of identification. Words that are useful for identification are words that appear often in one document but rarely elsewhere. This could be thought of as a word that one author like to use in particular. So this word carry information to identify the author.\n",
        "\n",
        "Then we will simply take these word weights as features representing the text. And use the ridge regression to classify these features.\n",
        "\n",
        "Note the **advantages and disadvantages** of this method. One nice thing about this is that we can interpret how the model works pretty easily because we know the regression coefficients implies the relative importance of TFIDF words. In the end, we'll see what words are preferred by which authors.\n",
        "\n",
        "But the big disadvantage is that we lose the sentence structure information. This is because TFIDF only look at word level. Words are taken out of sentences. So, let's say that sometimes authors use the same words to describe something, but one author has a particular way to arranging sentence or phraes that is unique to him or her. This information will not be incorporated in the model."
      ]
    },
    {
      "cell_type": "markdown",
      "metadata": {
        "id": "uidOoCnQ-CqL",
        "colab_type": "text"
      },
      "source": [
        "## 2.1 Vecterization\n",
        "\n",
        "First before vecterization, we will need to clean up the text a bit. This includes getting characterrs to lower cases, removing punctuations, and stem the prefix and suffix. \n",
        "\n",
        "The last part eliminate the part of speeches of words. In general, this helps consolidate different word forms to one root word so that might help keeping the TFIDF dimensions not too high. But it might, in some case, eliminate the information.\n",
        "\n",
        "It may be a good idea to keep the TFIDF features not too high, because later on when we do regression, having too many parameters lead to over-fitting. So we will try with 5000 TFIDF words."
      ]
    },
    {
      "cell_type": "code",
      "metadata": {
        "id": "Ii0lDothaZmM",
        "colab_type": "code",
        "outputId": "68cf2d87-edc4-4009-ad1d-78f326484fe5",
        "colab": {
          "base_uri": "https://localhost:8080/"
        }
      },
      "source": [
        "import nltk\n",
        "from nltk.stem.snowball import SnowballStemmer\n",
        "from sklearn.feature_extraction import text\n",
        "import re\n",
        "punc = ['.', ',', '\"', \"'\", '?', '!', ':', ';', '(', ')', '[', ']', '{', '}',\"%\"]\n",
        "stop_words = text.ENGLISH_STOP_WORDS.union(punc)\n",
        "nltk.download('wordnet')\n",
        "lemma = nltk.wordnet.WordNetLemmatizer()\n",
        "stemmer = SnowballStemmer(\"english\")"
      ],
      "execution_count": 0,
      "outputs": [
        {
          "output_type": "stream",
          "text": [
            "[nltk_data] Downloading package wordnet to /root/nltk_data...\n",
            "[nltk_data]   Package wordnet is already up-to-date!\n"
          ],
          "name": "stdout"
        }
      ]
    },
    {
      "cell_type": "code",
      "metadata": {
        "id": "JK2aUQUnZyXz",
        "colab_type": "code",
        "colab": {}
      },
      "source": [
        "def split_stem_stop(df1,stopword):\n",
        "    df = df1.copy(deep=True)\n",
        "    df['list_sentence'] = df['text'].str.split(' ')\n",
        "    df['list_sentence'] = df['list_sentence'].apply(lambda x: [y.lower() for y in x])\n",
        "    df['list_sentence'] = df['list_sentence'].apply(lambda x: [lemma.lemmatize(y) for y in x if y not in stopword])\n",
        "    df['list_sentence'] = df['list_sentence'].apply(lambda x: [re.sub(r'[^\\w\\s]',' ',i) for i in x])\n",
        "    df['list_sentence'] = df['list_sentence'].apply(lambda x: [stemmer.stem(y) for y in x])\n",
        "    return df[['author','text','list_sentence']]"
      ],
      "execution_count": 0,
      "outputs": []
    },
    {
      "cell_type": "code",
      "metadata": {
        "id": "l1-rCy6AamR0",
        "colab_type": "code",
        "colab": {}
      },
      "source": [
        "train_resampled = split_stem_stop(train_resampled,stop_words)"
      ],
      "execution_count": 0,
      "outputs": []
    },
    {
      "cell_type": "code",
      "metadata": {
        "id": "klyr_1Mrama0",
        "colab_type": "code",
        "colab": {}
      },
      "source": [
        "train_resampled['stemmed_text'] = train_resampled['list_sentence'].apply(' '.join)"
      ],
      "execution_count": 0,
      "outputs": []
    },
    {
      "cell_type": "code",
      "metadata": {
        "id": "w-0q0wIFcPuY",
        "colab_type": "code",
        "colab": {}
      },
      "source": [
        "train_resampled.to_csv('TFIDF_intermediate_Apr11_2020.csv')"
      ],
      "execution_count": 0,
      "outputs": []
    },
    {
      "cell_type": "code",
      "metadata": {
        "id": "xo14yuQu-Y0f",
        "colab_type": "code",
        "colab": {}
      },
      "source": [
        "train_resampled = pd.read_csv('TFIDF_intermediate_Apr11_2020.csv')"
      ],
      "execution_count": 0,
      "outputs": []
    },
    {
      "cell_type": "code",
      "metadata": {
        "id": "oKJMGV24p8wZ",
        "colab_type": "code",
        "outputId": "f023b28a-c252-46ac-c65d-3c9facb13b53",
        "colab": {
          "base_uri": "https://localhost:8080/",
          "height": 296
        }
      },
      "source": [
        "train_resampled.tail()"
      ],
      "execution_count": 5,
      "outputs": [
        {
          "output_type": "execute_result",
          "data": {
            "text/html": [
              "<div>\n",
              "<style scoped>\n",
              "    .dataframe tbody tr th:only-of-type {\n",
              "        vertical-align: middle;\n",
              "    }\n",
              "\n",
              "    .dataframe tbody tr th {\n",
              "        vertical-align: top;\n",
              "    }\n",
              "\n",
              "    .dataframe thead th {\n",
              "        text-align: right;\n",
              "    }\n",
              "</style>\n",
              "<table border=\"1\" class=\"dataframe\">\n",
              "  <thead>\n",
              "    <tr style=\"text-align: right;\">\n",
              "      <th></th>\n",
              "      <th>author</th>\n",
              "      <th>Unnamed: 1</th>\n",
              "      <th>author.1</th>\n",
              "      <th>text</th>\n",
              "      <th>list_sentence</th>\n",
              "      <th>stemmed_text</th>\n",
              "    </tr>\n",
              "  </thead>\n",
              "  <tbody>\n",
              "    <tr>\n",
              "      <th>16900</th>\n",
              "      <td>MWS</td>\n",
              "      <td>5630</td>\n",
              "      <td>2</td>\n",
              "      <td>\"Alas, for us,\" I cried, \"who have lost this l...</td>\n",
              "      <td>[' alas ', 'us  ', 'cried ', ' who', 'lost', '...</td>\n",
              "      <td>alas  us   cried   who lost latest honour wor...</td>\n",
              "    </tr>\n",
              "    <tr>\n",
              "      <th>16901</th>\n",
              "      <td>MWS</td>\n",
              "      <td>5631</td>\n",
              "      <td>2</td>\n",
              "      <td>You well know that on the whole earth there is...</td>\n",
              "      <td>['know', 'earth', 'sacrifis', 'make ', 'labour...</td>\n",
              "      <td>know earth sacrifis make  labour undergo mere ...</td>\n",
              "    </tr>\n",
              "    <tr>\n",
              "      <th>16902</th>\n",
              "      <td>MWS</td>\n",
              "      <td>5632</td>\n",
              "      <td>2</td>\n",
              "      <td>Adrian observed a change during a visit that h...</td>\n",
              "      <td>['adrian', 'observ', 'chang', 'visit', 'afterw...</td>\n",
              "      <td>adrian observ chang visit afterward paid them ...</td>\n",
              "    </tr>\n",
              "    <tr>\n",
              "      <th>16903</th>\n",
              "      <td>MWS</td>\n",
              "      <td>5633</td>\n",
              "      <td>2</td>\n",
              "      <td>We met baggage waggons, and many females of hi...</td>\n",
              "      <td>['met', 'baggag', 'waggons ', 'femal', 'high',...</td>\n",
              "      <td>met baggag waggons  femal high low rank return...</td>\n",
              "    </tr>\n",
              "    <tr>\n",
              "      <th>16904</th>\n",
              "      <td>MWS</td>\n",
              "      <td>5634</td>\n",
              "      <td>2</td>\n",
              "      <td>But in the detail which he gave you of them he...</td>\n",
              "      <td>['gave', 'sum', 'hour', 'month', 'miseri', 'en...</td>\n",
              "      <td>gave sum hour month miseri endur wast impot pa...</td>\n",
              "    </tr>\n",
              "  </tbody>\n",
              "</table>\n",
              "</div>"
            ],
            "text/plain": [
              "      author  ...                                       stemmed_text\n",
              "16900    MWS  ...   alas  us   cried   who lost latest honour wor...\n",
              "16901    MWS  ...  know earth sacrifis make  labour undergo mere ...\n",
              "16902    MWS  ...  adrian observ chang visit afterward paid them ...\n",
              "16903    MWS  ...  met baggag waggons  femal high low rank return...\n",
              "16904    MWS  ...  gave sum hour month miseri endur wast impot pa...\n",
              "\n",
              "[5 rows x 6 columns]"
            ]
          },
          "metadata": {
            "tags": []
          },
          "execution_count": 5
        }
      ]
    },
    {
      "cell_type": "code",
      "metadata": {
        "id": "8F4UnRobcdCv",
        "colab_type": "code",
        "colab": {}
      },
      "source": [
        "from sklearn.feature_extraction.text import TfidfVectorizer"
      ],
      "execution_count": 0,
      "outputs": []
    },
    {
      "cell_type": "code",
      "metadata": {
        "id": "zAYH5j99c4LL",
        "colab_type": "code",
        "colab": {}
      },
      "source": [
        "tfidf1 = TfidfVectorizer(max_features=5000)"
      ],
      "execution_count": 0,
      "outputs": []
    },
    {
      "cell_type": "code",
      "metadata": {
        "id": "Bie_xwZZdfxq",
        "colab_type": "code",
        "colab": {}
      },
      "source": [
        "train_TFIDF = tfidf1.fit_transform(train_resampled['stemmed_text'])"
      ],
      "execution_count": 0,
      "outputs": []
    },
    {
      "cell_type": "code",
      "metadata": {
        "id": "MIxvVFLvdosv",
        "colab_type": "code",
        "outputId": "0c2f4cd4-9700-4dd2-a727-67a14a1529fe",
        "colab": {
          "base_uri": "https://localhost:8080/"
        }
      },
      "source": [
        "train_TFIDF"
      ],
      "execution_count": 0,
      "outputs": [
        {
          "output_type": "execute_result",
          "data": {
            "text/plain": [
              "<16905x5000 sparse matrix of type '<class 'numpy.float64'>'\n",
              "\twith 171289 stored elements in Compressed Sparse Row format>"
            ]
          },
          "metadata": {
            "tags": []
          },
          "execution_count": 65
        }
      ]
    },
    {
      "cell_type": "code",
      "metadata": {
        "id": "tofmtBS7-sfL",
        "colab_type": "code",
        "outputId": "fa412de1-190b-495d-f88b-c53366b63030",
        "colab": {
          "base_uri": "https://localhost:8080/"
        }
      },
      "source": [
        "# to visualize the sparsity \n",
        "plt.figure(figsize=(10,8))\n",
        "plt.spy(train_TFIDF,markersize=0.05)"
      ],
      "execution_count": 0,
      "outputs": [
        {
          "output_type": "execute_result",
          "data": {
            "text/plain": [
              "<matplotlib.lines.Line2D at 0x7f1b62a4b390>"
            ]
          },
          "metadata": {
            "tags": []
          },
          "execution_count": 66
        },
        {
          "output_type": "display_data",
          "data": {
            "image/png": "[encoded data removed]",
            "text/plain": [
              "<Figure size 720x576 with 1 Axes>"
            ]
          },
          "metadata": {
            "tags": [],
            "needs_background": "light"
          }
        }
      ]
    },
    {
      "cell_type": "code",
      "metadata": {
        "id": "Yb8pQSJ8dqIf",
        "colab_type": "code",
        "colab": {}
      },
      "source": [
        "train_label = np.zeros((16905,3))"
      ],
      "execution_count": 0,
      "outputs": []
    },
    {
      "cell_type": "code",
      "metadata": {
        "id": "46h8SlgHd9Mp",
        "colab_type": "code",
        "colab": {}
      },
      "source": [
        "for count,i in enumerate(train_resampled['author.1']):\n",
        "  train_label[count,i] = 1"
      ],
      "execution_count": 0,
      "outputs": []
    },
    {
      "cell_type": "code",
      "metadata": {
        "id": "mTMW8d5AeWxy",
        "colab_type": "code",
        "outputId": "7583054f-68b4-4512-e827-c929c161e82c",
        "colab": {
          "base_uri": "https://localhost:8080/"
        }
      },
      "source": [
        "train_label"
      ],
      "execution_count": 0,
      "outputs": [
        {
          "output_type": "execute_result",
          "data": {
            "text/plain": [
              "array([[1., 0., 0.],\n",
              "       [1., 0., 0.],\n",
              "       [1., 0., 0.],\n",
              "       ...,\n",
              "       [0., 0., 1.],\n",
              "       [0., 0., 1.],\n",
              "       [0., 0., 1.]])"
            ]
          },
          "metadata": {
            "tags": []
          },
          "execution_count": 69
        }
      ]
    },
    {
      "cell_type": "code",
      "metadata": {
        "id": "nBKUdGP3eamq",
        "colab_type": "code",
        "colab": {}
      },
      "source": [
        "X_train, X_val, y_train, y_val = train_test_split( train_TFIDF, train_label, test_size=0.1, random_state=42)"
      ],
      "execution_count": 0,
      "outputs": []
    },
    {
      "cell_type": "code",
      "metadata": {
        "id": "tqjvfUyFc4D9",
        "colab_type": "code",
        "colab": {}
      },
      "source": [
        "from sklearn.linear_model import Ridge\n",
        "regrtest = Ridge()"
      ],
      "execution_count": 0,
      "outputs": []
    },
    {
      "cell_type": "markdown",
      "metadata": {
        "id": "UWcDBrjNiQxI",
        "colab_type": "text"
      },
      "source": [
        "## 2.2 parameter search\n",
        "\n",
        "We wil take the TFIDF weight matrix (5000 dimensions) to train the multi-class classification regression.\n",
        "\n",
        "The hyper-parameter to adjust is the alpha, which is the regularization strength of the model.\n",
        "\n",
        "The objective function is shown here:\n",
        "\n",
        "$ ||y - Xw||^2_2 + alpha * ||w||^2_2 $"
      ]
    },
    {
      "cell_type": "code",
      "metadata": {
        "id": "tkNqNcd6e2XC",
        "colab_type": "code",
        "outputId": "a3abb8da-8390-411b-ffc0-8cbe08be807b",
        "colab": {
          "base_uri": "https://localhost:8080/"
        }
      },
      "source": [
        "regrtest.fit(X_train,y_train)"
      ],
      "execution_count": 0,
      "outputs": [
        {
          "output_type": "execute_result",
          "data": {
            "text/plain": [
              "Ridge(alpha=1.0, copy_X=True, fit_intercept=True, max_iter=None,\n",
              "      normalize=False, random_state=None, solver='auto', tol=0.001)"
            ]
          },
          "metadata": {
            "tags": []
          },
          "execution_count": 57
        }
      ]
    },
    {
      "cell_type": "code",
      "metadata": {
        "id": "zkyF7_8Te8BI",
        "colab_type": "code",
        "colab": {}
      },
      "source": [
        "predict_ridge = regrtest.predict(X_train)"
      ],
      "execution_count": 0,
      "outputs": []
    },
    {
      "cell_type": "code",
      "metadata": {
        "id": "mccyuG_LamZg",
        "colab_type": "code",
        "colab": {}
      },
      "source": [
        "def accuracy_report(pred,target):\n",
        "  pred = np.argmax(pred,axis=1)\n",
        "  target = np.argmax(target,axis=1)\n",
        "  return np.sum(np.where(pred == target,1,0))/len(target)"
      ],
      "execution_count": 0,
      "outputs": []
    },
    {
      "cell_type": "code",
      "metadata": {
        "id": "mFZ_EhkFflLF",
        "colab_type": "code",
        "outputId": "27e585e8-6c70-4cc2-c4f1-0790bb1fb174",
        "colab": {
          "base_uri": "https://localhost:8080/"
        }
      },
      "source": [
        "accuracy_report(predict_ridge,y_train)"
      ],
      "execution_count": 0,
      "outputs": [
        {
          "output_type": "execute_result",
          "data": {
            "text/plain": [
              "0.9152754042329433"
            ]
          },
          "metadata": {
            "tags": []
          },
          "execution_count": 63
        }
      ]
    },
    {
      "cell_type": "code",
      "metadata": {
        "id": "bQBbMcm6ftmE",
        "colab_type": "code",
        "colab": {}
      },
      "source": [
        "predict_ridge2 = regrtest.predict(X_val)"
      ],
      "execution_count": 0,
      "outputs": []
    },
    {
      "cell_type": "code",
      "metadata": {
        "id": "owaqetOWfpSs",
        "colab_type": "code",
        "outputId": "54a8cd24-53be-4478-875e-3ca5652ea988",
        "colab": {
          "base_uri": "https://localhost:8080/"
        }
      },
      "source": [
        "accuracy_report(predict_ridge2,y_val)"
      ],
      "execution_count": 0,
      "outputs": [
        {
          "output_type": "execute_result",
          "data": {
            "text/plain": [
              "0.7930218805440568"
            ]
          },
          "metadata": {
            "tags": []
          },
          "execution_count": 66
        }
      ]
    },
    {
      "cell_type": "code",
      "metadata": {
        "id": "k5vrh188f0VT",
        "colab_type": "code",
        "colab": {}
      },
      "source": [
        "list_alpha = [i for i in range(20)]\n",
        "list_accuracy = []"
      ],
      "execution_count": 0,
      "outputs": []
    },
    {
      "cell_type": "code",
      "metadata": {
        "id": "raz8ucqAfLp1",
        "colab_type": "code",
        "colab": {}
      },
      "source": [
        "for i in list_alpha:\n",
        "  regrtest = Ridge(alpha=i)\n",
        "  regrtest.fit(X_train,y_train)\n",
        "  predict_ridge2 = regrtest.predict(X_val)\n",
        "  list_accuracy.append(accuracy_report(predict_ridge2,y_val))"
      ],
      "execution_count": 0,
      "outputs": []
    },
    {
      "cell_type": "code",
      "metadata": {
        "id": "8eJmJA4VfJX1",
        "colab_type": "code",
        "outputId": "9f0f758a-abc9-4732-af69-14d71d32a2ec",
        "colab": {
          "base_uri": "https://localhost:8080/"
        }
      },
      "source": [
        "plt.plot(list_alpha,list_accuracy)"
      ],
      "execution_count": 0,
      "outputs": [
        {
          "output_type": "execute_result",
          "data": {
            "text/plain": [
              "[<matplotlib.lines.Line2D at 0x7f55506c6b38>]"
            ]
          },
          "metadata": {
            "tags": []
          },
          "execution_count": 82
        },
        {
          "output_type": "display_data",
          "data": {
            "image/png": "[encoded data removed]",
            "text/plain": [
              "<Figure size 432x288 with 1 Axes>"
            ]
          },
          "metadata": {
            "tags": [],
            "needs_background": "light"
          }
        }
      ]
    },
    {
      "cell_type": "markdown",
      "metadata": {
        "id": "nyh9yjhCiVH_",
        "colab_type": "text"
      },
      "source": [
        "## 2.3 final model and explanation\n",
        "\n",
        "We'll use alpha = 2 to train the model."
      ]
    },
    {
      "cell_type": "code",
      "metadata": {
        "id": "ePRIFcjOg856",
        "colab_type": "code",
        "colab": {}
      },
      "source": [
        "regrtest = Ridge(alpha=2)"
      ],
      "execution_count": 0,
      "outputs": []
    },
    {
      "cell_type": "code",
      "metadata": {
        "id": "bk-v7yONiLwH",
        "colab_type": "code",
        "outputId": "0448c1b8-2789-4c4f-faf7-2dbf8896c179",
        "colab": {
          "base_uri": "https://localhost:8080/"
        }
      },
      "source": [
        "regrtest.fit(X_train,y_train)"
      ],
      "execution_count": 0,
      "outputs": [
        {
          "output_type": "execute_result",
          "data": {
            "text/plain": [
              "Ridge(alpha=2, copy_X=True, fit_intercept=True, max_iter=None, normalize=False,\n",
              "      random_state=None, solver='auto', tol=0.001)"
            ]
          },
          "metadata": {
            "tags": []
          },
          "execution_count": 33
        }
      ]
    },
    {
      "cell_type": "code",
      "metadata": {
        "id": "O7S2biZTiO6G",
        "colab_type": "code",
        "outputId": "2da2ab26-6572-46df-d315-c415587477ff",
        "colab": {
          "base_uri": "https://localhost:8080/"
        }
      },
      "source": [
        "predict_ridge = regrtest.predict(X_train)\n",
        "accuracy_report(predict_ridge,y_train)"
      ],
      "execution_count": 0,
      "outputs": [
        {
          "output_type": "execute_result",
          "data": {
            "text/plain": [
              "0.9016037859865913"
            ]
          },
          "metadata": {
            "tags": []
          },
          "execution_count": 36
        }
      ]
    },
    {
      "cell_type": "code",
      "metadata": {
        "id": "8AJM97eMihhR",
        "colab_type": "code",
        "outputId": "c6af94e5-a41f-4de1-b99b-bafa4dd333c5",
        "colab": {
          "base_uri": "https://localhost:8080/"
        }
      },
      "source": [
        "predict_ridge = regrtest.predict(X_val)\n",
        "accuracy_report(predict_ridge,y_val)"
      ],
      "execution_count": 0,
      "outputs": [
        {
          "output_type": "execute_result",
          "data": {
            "text/plain": [
              "0.7995269071555293"
            ]
          },
          "metadata": {
            "tags": []
          },
          "execution_count": 37
        }
      ]
    },
    {
      "cell_type": "markdown",
      "metadata": {
        "id": "kgDXYjX4oKia",
        "colab_type": "text"
      },
      "source": [
        "## 2.4 feature importance\n",
        "\n",
        "The TFIDF accuracy is about 80% so that is a pretty good start. Now as promised we can take a look at what words contribute most. "
      ]
    },
    {
      "cell_type": "code",
      "metadata": {
        "id": "fwq_BCXAmuCa",
        "colab_type": "code",
        "outputId": "bc044e7d-a960-4df8-844e-baa9c5603a5d",
        "colab": {
          "base_uri": "https://localhost:8080/"
        }
      },
      "source": [
        "dict_author = {1:'HP Lovecraft',2:'Mary Shelley',0:'Edgar Allen Poe'}\n",
        "for author in range(3):\n",
        "  print('author = {}'.format(dict_author[author]))\n",
        "  print('----------')\n",
        "  print('top 5 most unlikely words')\n",
        "  for i in list(np.argsort(regrtest.coef_[author])[:5]):\n",
        "    print('{}'.format(tfidf1.get_feature_names()[i]),'  {:.3f}'.format(regrtest.coef_[author,i]))\n",
        "  print(' ')\n",
        "  print('top 5 most likely words')\n",
        "  for j in list(np.argsort(regrtest.coef_[author])[4995:]):\n",
        "    print('{}'.format(tfidf1.get_feature_names()[j]),'  {:.3f}'.format(regrtest.coef_[author,j]))\n",
        "  print('----------')"
      ],
      "execution_count": 0,
      "outputs": [
        {
          "output_type": "stream",
          "text": [
            "author = Edgar Allen Poe\n",
            "----------\n",
            "top 5 most unlikely words\n",
            "raymond   -0.681\n",
            "despit   -0.565\n",
            "shew   -0.542\n",
            "west   -0.536\n",
            "endeavour   -0.535\n",
            " \n",
            "top 5 most likely words\n",
            "drawer   0.667\n",
            "however   0.671\n",
            "minutes   0.687\n",
            "ordinari   0.769\n",
            "dupin   0.773\n",
            "----------\n",
            "author = HP Lovecraft\n",
            "----------\n",
            "top 5 most unlikely words\n",
            "and   -0.511\n",
            "portion   -0.489\n",
            "sun   -0.487\n",
            "heart   -0.449\n",
            "which   -0.435\n",
            " \n",
            "top 5 most likely words\n",
            "birch   0.771\n",
            "gilman   0.795\n",
            "despit   0.883\n",
            "west   0.918\n",
            "later   0.958\n",
            "----------\n",
            "author = Mary Shelley\n",
            "----------\n",
            "top 5 most unlikely words\n",
            "later   -0.511\n",
            "however   -0.481\n",
            "posit   -0.442\n",
            "thing   -0.426\n",
            "german   -0.410\n",
            " \n",
            "top 5 most likely words\n",
            "her   0.720\n",
            "adrian   0.720\n",
            "perdita   0.749\n",
            "endeavour   0.796\n",
            "raymond   1.046\n",
            "----------\n"
          ],
          "name": "stdout"
        }
      ]
    },
    {
      "cell_type": "markdown",
      "metadata": {
        "id": "RiL2jLNfYIQF",
        "colab_type": "text"
      },
      "source": [
        "It turns out that a lot of these are names of characters. So they are pretty specific to the novel. For example, Dupin is a character in \"The Murders in the Rue Morgue\" by Peo. This name has highest regression coefficient meaning associated for Poe.\n",
        "\n",
        "Similarly, Gilman is a character in Lovecraft \"The Dreams in the Witch-House\".\n",
        "\n",
        "Adrian and Perdita are characters from Mary Shelley's novel \"The Last Man\"."
      ]
    },
    {
      "cell_type": "markdown",
      "metadata": {
        "id": "hiu9MpxTZZcJ",
        "colab_type": "text"
      },
      "source": [
        "# 3. Naive-Bayes Classification\n",
        "\n",
        "Another ML approach we will look at is Naive Bayes classifier. Given a word vector \n",
        "$x_1,...,x_n$ representing a sentence. The value of the vector can be frequency of words in the document belonging to a class or a binary values of whether the word is presence or absence in the document. We can ask what is the conditional probability that this vector belong to a class $C_k$, i.e.\n",
        "\n",
        "$p(C_k | x_1,...,x_n)$\n",
        "\n",
        "The Bayes' theorem states that \n",
        "\n",
        "$p(C_k | x) = \\frac{p(C_k)p(x|C_k)}{p(x)}$\n",
        "\n",
        "And we can write \n",
        "\n",
        "$P(C_k,x_1,...,x_n) = p(x_1|x_2,...,x_n,C_k)p(x_2|x_3,...,x_n,C_k)...p(x_{n-1}|x_n,C_k)p(x_{n}|C_k)p(C_k)$\n",
        "\n",
        "The problem is that some pairs of $x_i$ are not independent. Certain words tend to go together, and certain words are not likely to go together. So that makes the actual Bayes' theorem calculation will have more terms representing the probability of one word depending on another. This is the part that is difficult to calculate.\n",
        "\n",
        "Now the reason Naive Bayes is \"naive\" is because make an assumption to simplify this problem. The assumption is independence among features. That is to say,\n",
        "\n",
        "$P(x_1,x_2) = P(x_1)P(x_2)$\n",
        "\n",
        "So the model above is simplified to \n",
        "\n",
        "$p(C_k|x_1,...,x_n) = p(C_k)p(x_1|C_k)p(x_2|C_k)p(x_3|C_k)...$\n",
        "\n",
        "$ = p(C_k)\\prod_{i=1}^np(x_i|C_k)$\n",
        "\n",
        "So with this assumption, even though it is unlikely to be corect, but it will work pretty well in practice. And now we should have everything we need to do the work pretty easily.\n",
        "\n",
        "One more thing to think about is how to model a probability distribution of words in classes, i.e. whether \n",
        "$p(x_n|C_k)$ is normally distributed or distributed according to Bernoullidistribution, etc.\n",
        "\n",
        "In our case, we will look at Bernoulli Naive Bayes since word occurances are binary, i.e. either presence or absence. "
      ]
    },
    {
      "cell_type": "code",
      "metadata": {
        "id": "IUuxGCw8lPIL",
        "colab_type": "code",
        "colab": {}
      },
      "source": [
        "from sklearn.feature_extraction.text import CountVectorizer"
      ],
      "execution_count": 0,
      "outputs": []
    },
    {
      "cell_type": "markdown",
      "metadata": {
        "id": "G-Lyl9totGMh",
        "colab_type": "text"
      },
      "source": [
        "## 3.1 Bernoulli Naive Bayes"
      ]
    },
    {
      "cell_type": "code",
      "metadata": {
        "id": "4v5x5nFYnMsN",
        "colab_type": "code",
        "colab": {}
      },
      "source": [
        "count_vector1 = CountVectorizer(max_features=5000,binary=True)"
      ],
      "execution_count": 0,
      "outputs": []
    },
    {
      "cell_type": "code",
      "metadata": {
        "id": "kLX3l5J7odgO",
        "colab_type": "code",
        "colab": {}
      },
      "source": [
        "train_count = count_vector1.fit_transform(train_resampled['stemmed_text'])"
      ],
      "execution_count": 0,
      "outputs": []
    },
    {
      "cell_type": "code",
      "metadata": {
        "id": "MZfSkUqAbYqw",
        "colab_type": "code",
        "outputId": "fcdfaa72-c8df-42c9-d541-6d834617b7d7",
        "colab": {
          "base_uri": "https://localhost:8080/",
          "height": 50
        }
      },
      "source": [
        "train_count"
      ],
      "execution_count": 39,
      "outputs": [
        {
          "output_type": "execute_result",
          "data": {
            "text/plain": [
              "<16905x5000 sparse matrix of type '<class 'numpy.int64'>'\n",
              "\twith 171345 stored elements in Compressed Sparse Row format>"
            ]
          },
          "metadata": {
            "tags": []
          },
          "execution_count": 39
        }
      ]
    },
    {
      "cell_type": "code",
      "metadata": {
        "id": "jWKxceStpLCQ",
        "colab_type": "code",
        "outputId": "9c74ab11-0ed1-4ae1-8cbf-a61ac63e30c6",
        "colab": {
          "base_uri": "https://localhost:8080/",
          "height": 503
        }
      },
      "source": [
        "# to visualize the sparsity \n",
        "plt.figure(figsize=(10,8))\n",
        "plt.spy(train_count,markersize=0.09)"
      ],
      "execution_count": 40,
      "outputs": [
        {
          "output_type": "execute_result",
          "data": {
            "text/plain": [
              "<matplotlib.lines.Line2D at 0x7ff16da5bc18>"
            ]
          },
          "metadata": {
            "tags": []
          },
          "execution_count": 40
        },
        {
          "output_type": "display_data",
          "data": {
            "image/png": "[encoded data removed]",
            "text/plain": [
              "<Figure size 720x576 with 1 Axes>"
            ]
          },
          "metadata": {
            "tags": [],
            "needs_background": "light"
          }
        }
      ]
    },
    {
      "cell_type": "code",
      "metadata": {
        "id": "6rWkIjsmrFTc",
        "colab_type": "code",
        "colab": {}
      },
      "source": [
        "train_label = list(train_resampled['author.1'].values)"
      ],
      "execution_count": 0,
      "outputs": []
    },
    {
      "cell_type": "code",
      "metadata": {
        "id": "AMJy2BhCqxTx",
        "colab_type": "code",
        "colab": {}
      },
      "source": [
        "X_train, X_val, y_train, y_val = train_test_split( train_count.toarray(), train_label, test_size=0.1, random_state=42)"
      ],
      "execution_count": 0,
      "outputs": []
    },
    {
      "cell_type": "code",
      "metadata": {
        "id": "laZV8PqOq96d",
        "colab_type": "code",
        "colab": {}
      },
      "source": [
        "from sklearn.naive_bayes import BernoulliNB\n",
        "gnb = BernoulliNB()\n",
        "y_pred = gnb.fit(X_train, y_train).predict(X_val)"
      ],
      "execution_count": 0,
      "outputs": []
    },
    {
      "cell_type": "code",
      "metadata": {
        "id": "G50z1eVlsErd",
        "colab_type": "code",
        "outputId": "0e7d03bd-8244-451d-9a68-b6830c7be691",
        "colab": {
          "base_uri": "https://localhost:8080/",
          "height": 50
        }
      },
      "source": [
        "print('overall accuracy')\n",
        "print(np.sum(y_pred == y_val)/len(y_pred))"
      ],
      "execution_count": 45,
      "outputs": [
        {
          "output_type": "stream",
          "text": [
            "overall accuracy\n",
            "0.7983441750443524\n"
          ],
          "name": "stdout"
        }
      ]
    },
    {
      "cell_type": "code",
      "metadata": {
        "id": "tO0Pp-6trSFG",
        "colab_type": "code",
        "colab": {}
      },
      "source": [
        "from sklearn.metrics import confusion_matrix\n",
        "array_confusion = confusion_matrix(y_val,y_pred,normalize='true')"
      ],
      "execution_count": 0,
      "outputs": []
    },
    {
      "cell_type": "code",
      "metadata": {
        "id": "DCer64Sgr3ut",
        "colab_type": "code",
        "outputId": "dfcaaae6-e608-448c-b12d-44b1a3846694",
        "colab": {
          "base_uri": "https://localhost:8080/",
          "height": 282
        }
      },
      "source": [
        "sns.heatmap(array_confusion, cmap=\"YlGnBu\")"
      ],
      "execution_count": 49,
      "outputs": [
        {
          "output_type": "execute_result",
          "data": {
            "text/plain": [
              "<matplotlib.axes._subplots.AxesSubplot at 0x7ff16dafa940>"
            ]
          },
          "metadata": {
            "tags": []
          },
          "execution_count": 49
        },
        {
          "output_type": "display_data",
          "data": {
            "image/png": "[encoded data removed]",
            "text/plain": [
              "<Figure size 432x288 with 2 Axes>"
            ]
          },
          "metadata": {
            "tags": [],
            "needs_background": "light"
          }
        }
      ]
    },
    {
      "cell_type": "markdown",
      "metadata": {
        "id": "rCAL213VtLQY",
        "colab_type": "text"
      },
      "source": [
        "## 3.2 Multinomial Naive Bayes\n",
        "\n",
        "The Bernoulli Naive Bayes only look at binary count, i.e. presence or absence. If we want to a word distribution model that takes into account th number of counts, we need another probability distribution. In this case, we will use Multinomial distribution. So the model is Multinomial Naive Bayes. "
      ]
    },
    {
      "cell_type": "code",
      "metadata": {
        "id": "VrH5k9wWtOV4",
        "colab_type": "code",
        "colab": {}
      },
      "source": [
        "count_vector1 = CountVectorizer(max_features=5000)"
      ],
      "execution_count": 0,
      "outputs": []
    },
    {
      "cell_type": "code",
      "metadata": {
        "id": "ASy-UcJUtW0T",
        "colab_type": "code",
        "colab": {}
      },
      "source": [
        "train_count = count_vector1.fit_transform(train_resampled['stemmed_text'])"
      ],
      "execution_count": 0,
      "outputs": []
    },
    {
      "cell_type": "code",
      "metadata": {
        "id": "062sh3S3tZIE",
        "colab_type": "code",
        "colab": {}
      },
      "source": [
        "X_train, X_val, y_train, y_val = train_test_split( train_count.toarray(), train_label, test_size=0.1, random_state=42)"
      ],
      "execution_count": 0,
      "outputs": []
    },
    {
      "cell_type": "code",
      "metadata": {
        "id": "u3Bv7fEnteB6",
        "colab_type": "code",
        "colab": {}
      },
      "source": [
        "from sklearn.naive_bayes import MultinomialNB\n",
        "gnb = MultinomialNB()\n",
        "y_pred = gnb.fit(X_train, y_train).predict(X_val)"
      ],
      "execution_count": 0,
      "outputs": []
    },
    {
      "cell_type": "code",
      "metadata": {
        "id": "TqrBHgrYtmGe",
        "colab_type": "code",
        "outputId": "6bd0a98b-6b36-4d50-fcd8-95072a5244e5",
        "colab": {
          "base_uri": "https://localhost:8080/",
          "height": 50
        }
      },
      "source": [
        "print('overall accuracy')\n",
        "print(np.sum(y_pred == y_val)/len(y_pred))"
      ],
      "execution_count": 0,
      "outputs": [
        {
          "output_type": "stream",
          "text": [
            "overall accuracy\n",
            "0.8036664695446482\n"
          ],
          "name": "stdout"
        }
      ]
    },
    {
      "cell_type": "code",
      "metadata": {
        "id": "AUQToMyntuQa",
        "colab_type": "code",
        "colab": {}
      },
      "source": [
        "from sklearn.metrics import confusion_matrix\n",
        "array_confusion = confusion_matrix(y_val,y_pred,normalize='true')"
      ],
      "execution_count": 0,
      "outputs": []
    },
    {
      "cell_type": "code",
      "metadata": {
        "id": "t54ZbyfztyuC",
        "colab_type": "code",
        "outputId": "5f23708b-8ed8-47f9-eef3-be136bf89362",
        "colab": {
          "base_uri": "https://localhost:8080/",
          "height": 282
        }
      },
      "source": [
        "sns.heatmap(array_confusion, cmap=\"YlGnBu\")"
      ],
      "execution_count": 0,
      "outputs": [
        {
          "output_type": "execute_result",
          "data": {
            "text/plain": [
              "<matplotlib.axes._subplots.AxesSubplot at 0x7f1b5bd99400>"
            ]
          },
          "metadata": {
            "tags": []
          },
          "execution_count": 118
        },
        {
          "output_type": "display_data",
          "data": {
            "image/png": "[encoded data removed]",
            "text/plain": [
              "<Figure size 432x288 with 2 Axes>"
            ]
          },
          "metadata": {
            "tags": [],
            "needs_background": "light"
          }
        }
      ]
    },
    {
      "cell_type": "markdown",
      "metadata": {
        "id": "tRIOk_uHoPaN",
        "colab_type": "text"
      },
      "source": [
        "# 4 recurrent neural network\n",
        "\n",
        "The models we have so far only look at the word level information. And even though they are performing pretty well, one might want to look at higher level information, such as phrases or sentences. So we need a model that perserves the word order somehow.\n",
        "\n",
        "First we will use a recurrent neural network to model the sequences of words in sentences and finally classify them to one of 3 authors.\n",
        "\n",
        "The diagram for recurrent neural net is shown below.\n",
        "\n",
        "![alt text](http://www.easy-tensorflow.com/images/NN/06.png)\n",
        "\n",
        "Look at the unfolded diagram of the network. Our strategy is to feed words (in the form of numerical tokens), one token as a time to the model. these tokens is embedded in the form a vector. The model receives input from this embedded vector and a hidden state from previous token (for first token, the hidden state is generated and feed into the model directly). The hidden state carries information from previous words in the sequence to the next word. Until it reaches the last token. The hidden state on the last token is then sent to a fully connected classification layer that classify to the author label.\n",
        "\n",
        "Now, one problem that we will encounter is that if our text is long, by the time we train the model to end, the information from the beginning of the text is lost. The hidden states that is carried from the beginning get changed successively too many times, such that the back-propagated gradients can vanish.\n",
        "\n",
        "\n",
        "![alt text](https://upload.wikimedia.org/wikipedia/commons/thumb/5/5f/Gated_Recurrent_Unit.svg/1920px-Gated_Recurrent_Unit.svg.png)\n",
        "\n",
        "To ameliorate this delay problem, we will be using gated recurrent units (GRU) as a neuron in the recurrent network. Roughly speaking, this kind of unit provides a gaing mechanism that control the flow of information. This full understanding of the math is quite complicated and won't be pursued here. "
      ]
    },
    {
      "cell_type": "markdown",
      "metadata": {
        "id": "apGay58kqvhL",
        "colab_type": "text"
      },
      "source": [
        "## 4.1 Packages and libraries"
      ]
    },
    {
      "cell_type": "code",
      "metadata": {
        "id": "l7govH3IwEKq",
        "colab_type": "code",
        "colab": {}
      },
      "source": [
        "from sklearn.model_selection import train_test_split\n",
        "import torch\n",
        "import torch.nn as nn\n",
        "from torch.utils.data import TensorDataset, DataLoader\n",
        "import timeit\n",
        "import torch.nn.functional as F"
      ],
      "execution_count": 0,
      "outputs": []
    },
    {
      "cell_type": "code",
      "metadata": {
        "id": "ag8cJuLIrN8M",
        "colab_type": "code",
        "outputId": "fba2aed1-bb66-465c-8e3a-655d6f29c9e9",
        "colab": {
          "base_uri": "https://localhost:8080/",
          "height": 50
        }
      },
      "source": [
        "import nltk\n",
        "nltk.download('punkt')\n",
        "from nltk.tokenize import word_tokenize"
      ],
      "execution_count": 0,
      "outputs": [
        {
          "output_type": "stream",
          "text": [
            "[nltk_data] Downloading package punkt to /root/nltk_data...\n",
            "[nltk_data]   Unzipping tokenizers/punkt.zip.\n"
          ],
          "name": "stdout"
        }
      ]
    },
    {
      "cell_type": "code",
      "metadata": {
        "id": "tAIcvuRSv6Mo",
        "colab_type": "code",
        "outputId": "46abcdd9-e9df-439f-df9d-c4fbd54ac29c",
        "colab": {
          "base_uri": "https://localhost:8080/",
          "height": 50
        }
      },
      "source": [
        "if torch.cuda.is_available():    \n",
        "\n",
        "    # Tell PyTorch to use the GPU.    \n",
        "    device = torch.device(\"cuda\")\n",
        "    torch.backends.cudnn.benchmark = True\n",
        "    torch.backends.cudnn.enabled = True\n",
        "    print('There are %d GPU(s) available.' % torch.cuda.device_count())\n",
        "\n",
        "    print('We will use the GPU:', torch.cuda.get_device_name(0)) #hopefully we get Tesla P100 \n",
        "\n",
        "# If not...\n",
        "else:\n",
        "    print('No GPU available, using the CPU instead.')\n",
        "    device = torch.device(\"cpu\")"
      ],
      "execution_count": 6,
      "outputs": [
        {
          "output_type": "stream",
          "text": [
            "There are 1 GPU(s) available.\n",
            "We will use the GPU: Tesla P100-PCIE-16GB\n"
          ],
          "name": "stdout"
        }
      ]
    },
    {
      "cell_type": "markdown",
      "metadata": {
        "id": "fYODxFCTrGX5",
        "colab_type": "text"
      },
      "source": [
        "## 4.2 tokenization\n",
        "\n",
        "We will implement our own tokenization steps here."
      ]
    },
    {
      "cell_type": "code",
      "metadata": {
        "id": "k6Ejf_xZio3M",
        "colab_type": "code",
        "colab": {}
      },
      "source": [
        "train_resampled = train_resampled[['author','text']]"
      ],
      "execution_count": 0,
      "outputs": []
    },
    {
      "cell_type": "code",
      "metadata": {
        "id": "0BLHSijDt73e",
        "colab_type": "code",
        "colab": {}
      },
      "source": [
        "punc = ['.', ',', '\"', \"'\", '?', '!', ':', ';', '(', ')', '[', ']', '{', '}',\"%\"]"
      ],
      "execution_count": 0,
      "outputs": []
    },
    {
      "cell_type": "code",
      "metadata": {
        "id": "eyuAwxx3rVaF",
        "colab_type": "code",
        "colab": {}
      },
      "source": [
        "def tokenize_frame(frame1):\n",
        "    frame = frame1.copy(deep=True)\n",
        "    frame['tokens'] = frame['text'].apply(lambda x: word_tokenize(x))\n",
        "    return frame"
      ],
      "execution_count": 0,
      "outputs": []
    },
    {
      "cell_type": "code",
      "metadata": {
        "id": "JPSvZUnTrXv5",
        "colab_type": "code",
        "colab": {}
      },
      "source": [
        "train_resampled = tokenize_frame(train_resampled)"
      ],
      "execution_count": 0,
      "outputs": []
    },
    {
      "cell_type": "code",
      "metadata": {
        "id": "3MhaDRofuT69",
        "colab_type": "code",
        "colab": {}
      },
      "source": [
        "train_resampled['tokens'] = train_resampled['tokens'].apply(lambda x: [y for y in x if y not in punc])"
      ],
      "execution_count": 0,
      "outputs": []
    },
    {
      "cell_type": "code",
      "metadata": {
        "id": "phSw5N6treYD",
        "colab_type": "code",
        "colab": {}
      },
      "source": [
        "list_vocab = []\n",
        "for sentence in train_resampled['tokens']:\n",
        "  for word in np.unique(sentence):\n",
        "    list_vocab.append(word)\n",
        "list_vocab = np.unique(list_vocab)"
      ],
      "execution_count": 0,
      "outputs": []
    },
    {
      "cell_type": "markdown",
      "metadata": {
        "id": "b4RIEBIfnGUv",
        "colab_type": "text"
      },
      "source": [
        "We will create a dictionary mapping between word token and numerical token. \n",
        "The goal is to create a tensor of numeric tokens of the same lengths. Therefore, if text are longer than the allowed length, we will trim off the extra words. And if the text are shorter than the prescribed length, we will pad the tensor with [0].\n",
        "\n",
        "Note that the padding is on the left side, because the sequence goes from left to right. You want the last tokens in the sequence to be your words, so the hidden states contain the information about those words. If we padd the right side, the information (carried in the hidden state till the fully connected layer in the end) can get lost when encountering a long sequences of padding. "
      ]
    },
    {
      "cell_type": "code",
      "metadata": {
        "id": "tTMAa5XMr5mr",
        "colab_type": "code",
        "outputId": "1db3bc87-be85-44ab-8bbe-33e4e08cdcb5",
        "colab": {
          "base_uri": "https://localhost:8080/",
          "height": 34
        }
      },
      "source": [
        "len(list_vocab)"
      ],
      "execution_count": 0,
      "outputs": [
        {
          "output_type": "execute_result",
          "data": {
            "text/plain": [
              "26077"
            ]
          },
          "metadata": {
            "tags": []
          },
          "execution_count": 20
        }
      ]
    },
    {
      "cell_type": "code",
      "metadata": {
        "id": "sAMtoSTer9sY",
        "colab_type": "code",
        "colab": {}
      },
      "source": [
        "def create_vocab_dict(vocab):\n",
        "    dict_str2int = {}\n",
        "    dict_int2str = {}\n",
        "    for i,j in enumerate(vocab,1):\n",
        "        dict_str2int[j] = int(i)\n",
        "        dict_int2str[i] = j\n",
        "    return dict_str2int, dict_int2str"
      ],
      "execution_count": 0,
      "outputs": []
    },
    {
      "cell_type": "code",
      "metadata": {
        "id": "Vvyn3ynysOT_",
        "colab_type": "code",
        "colab": {}
      },
      "source": [
        "dict_str2int, dict_int2str = create_vocab_dict(list_vocab)"
      ],
      "execution_count": 0,
      "outputs": []
    },
    {
      "cell_type": "code",
      "metadata": {
        "id": "9lavmQt1sSSS",
        "colab_type": "code",
        "colab": {}
      },
      "source": [
        "def apply_dict(list1):\n",
        "    result = []\n",
        "    try:\n",
        "      for i in list1:\n",
        "        result.append(dict_str2int[i])\n",
        "    except:\n",
        "      for i in list1:\n",
        "        if i not in dict_str2int.keys():\n",
        "          print(i,' not in dict')\n",
        "          dict_str2int[i] = len(dict_str2int.keys())\n",
        "          result.append(dict_str2int[i])\n",
        "        else:\n",
        "          result.append(dict_str2int[i])\n",
        "    return result"
      ],
      "execution_count": 0,
      "outputs": []
    },
    {
      "cell_type": "code",
      "metadata": {
        "id": "NSsCp4jpr76e",
        "colab_type": "code",
        "colab": {}
      },
      "source": [
        "def word2token(frame1):\n",
        "    frame = frame1.copy(deep=True)\n",
        "    frame['numeric_tokens'] = frame['tokens'].apply(lambda x: apply_dict(x))\n",
        "    return frame"
      ],
      "execution_count": 0,
      "outputs": []
    },
    {
      "cell_type": "code",
      "metadata": {
        "id": "Jiz8uAZTrEQJ",
        "colab_type": "code",
        "colab": {}
      },
      "source": [
        "train_resampled = word2token(train_resampled)"
      ],
      "execution_count": 0,
      "outputs": []
    },
    {
      "cell_type": "code",
      "metadata": {
        "id": "i8QyxcOesqq9",
        "colab_type": "code",
        "colab": {}
      },
      "source": [
        "list_len = []\n",
        "for i in train_resampled['numeric_tokens']:\n",
        "  list_len.append(len(i))"
      ],
      "execution_count": 0,
      "outputs": []
    },
    {
      "cell_type": "code",
      "metadata": {
        "id": "TUAfWM8ItPTY",
        "colab_type": "code",
        "outputId": "4bf94c17-cf51-45f3-dfae-8268665c3907",
        "colab": {
          "base_uri": "https://localhost:8080/",
          "height": 34
        }
      },
      "source": [
        "np.quantile(list_len, 0.99)  # most text is shorter than 85 tokens."
      ],
      "execution_count": 0,
      "outputs": [
        {
          "output_type": "execute_result",
          "data": {
            "text/plain": [
              "85.0"
            ]
          },
          "metadata": {
            "tags": []
          },
          "execution_count": 28
        }
      ]
    },
    {
      "cell_type": "code",
      "metadata": {
        "id": "jYSRH8yotXhk",
        "colab_type": "code",
        "colab": {}
      },
      "source": [
        "def pad_truncate_array(frame,max_len=160,truncate='Post'):\n",
        "    result = []\n",
        "    for item in frame['numeric_tokens']:\n",
        "        if len(item) > max_len:\n",
        "            if truncate == 'Post':\n",
        "                result.append(item[:max_len])\n",
        "            else:\n",
        "                result.append(item[len(item) - max_len:])\n",
        "        else:\n",
        "            result.append([0]*(max_len - len(item)) + item)\n",
        "    return np.array(result)"
      ],
      "execution_count": 0,
      "outputs": []
    },
    {
      "cell_type": "code",
      "metadata": {
        "id": "IOHG1qrXtP3U",
        "colab_type": "code",
        "colab": {}
      },
      "source": [
        "train_array = pad_truncate_array(train_resampled,max_len = 100)"
      ],
      "execution_count": 0,
      "outputs": []
    },
    {
      "cell_type": "code",
      "metadata": {
        "id": "vLE_49FztI5c",
        "colab_type": "code",
        "outputId": "bfa2067f-9acc-4ee7-8aab-8a6a2a573c9d",
        "colab": {
          "base_uri": "https://localhost:8080/",
          "height": 134
        }
      },
      "source": [
        "train_array"
      ],
      "execution_count": 0,
      "outputs": [
        {
          "output_type": "execute_result",
          "data": {
            "text/plain": [
              "array([[    0,     0,     0, ...,  7200, 17247,  5430],\n",
              "       [    0,     0,     0, ..., 25862,  4810,  2999],\n",
              "       [    0,     0,     0, ..., 14317, 21911,  7358],\n",
              "       ...,\n",
              "       [    0,     0,     0, ..., 23509, 17494, 16103],\n",
              "       [    0,     0,     0, ..., 26005, 17459,  5246],\n",
              "       [    0,     0,     0, ..., 17459, 24649, 17859]])"
            ]
          },
          "metadata": {
            "tags": []
          },
          "execution_count": 31
        }
      ]
    },
    {
      "cell_type": "code",
      "metadata": {
        "id": "o-3VdVDpth9_",
        "colab_type": "code",
        "colab": {}
      },
      "source": [
        "X_train, X_val, y_train, y_val = train_test_split( train_array, train_resampled['author'], \n",
        "                                                  test_size=0.1, random_state=42)"
      ],
      "execution_count": 0,
      "outputs": []
    },
    {
      "cell_type": "code",
      "metadata": {
        "id": "jcu15NJgwI22",
        "colab_type": "code",
        "colab": {}
      },
      "source": [
        "batch_size = 96\n",
        "train_dataset = TensorDataset(torch.tensor(X_train,dtype=torch.long), torch.tensor(y_train,dtype=torch.long))\n",
        "train_loader = DataLoader(train_dataset, shuffle=True, batch_size=batch_size)"
      ],
      "execution_count": 0,
      "outputs": []
    },
    {
      "cell_type": "code",
      "metadata": {
        "id": "veqlt2VvwOhI",
        "colab_type": "code",
        "colab": {}
      },
      "source": [
        "val_dataset = TensorDataset(torch.tensor(X_val,dtype=torch.long), torch.tensor(y_val,dtype=torch.long))\n",
        "val_loader = DataLoader(val_dataset, shuffle=True, batch_size=batch_size)"
      ],
      "execution_count": 0,
      "outputs": []
    },
    {
      "cell_type": "code",
      "metadata": {
        "id": "j2VErmc7wRcJ",
        "colab_type": "code",
        "outputId": "029247ba-8aed-4979-97e2-6f80f9625761",
        "colab": {
          "base_uri": "https://localhost:8080/",
          "height": 286
        }
      },
      "source": [
        "dataiter = iter(train_loader)\n",
        "sample_x, sample_y = dataiter.next()\n",
        "\n",
        "print('Sample input size: ', sample_x.size()) # batch_size, seq_length\n",
        "print('Sample input: \\n', sample_x)\n",
        "print()\n",
        "print('Sample label size: ', sample_y.size()) # batch_size\n",
        "print('Sample label: \\n', sample_y)"
      ],
      "execution_count": 0,
      "outputs": [
        {
          "output_type": "stream",
          "text": [
            "Sample input size:  torch.Size([96, 100])\n",
            "Sample input: \n",
            " tensor([[    0,     0,     0,  ..., 25573,  6578, 12445],\n",
            "        [    0,     0,     0,  ...,  5620, 16746, 13111],\n",
            "        [    0,     0,     0,  ..., 17459, 23509, 13914],\n",
            "        ...,\n",
            "        [    0,     0,     0,  ..., 26030, 20989, 13749],\n",
            "        [    0,     0,     0,  ..., 23768, 11114, 23519],\n",
            "        [    0,     0,     0,  ...,  5513, 13768, 22075]])\n",
            "\n",
            "Sample label size:  torch.Size([96])\n",
            "Sample label: \n",
            " tensor([1, 0, 1, 1, 0, 0, 0, 2, 2, 2, 0, 1, 0, 0, 0, 0, 2, 2, 2, 2, 1, 2, 1, 1,\n",
            "        2, 1, 0, 0, 1, 1, 1, 2, 0, 1, 1, 2, 1, 1, 1, 2, 2, 1, 1, 1, 1, 1, 1, 0,\n",
            "        0, 2, 1, 2, 2, 1, 1, 0, 2, 1, 2, 1, 0, 1, 1, 0, 1, 0, 1, 1, 1, 1, 2, 1,\n",
            "        1, 0, 2, 2, 2, 0, 1, 1, 2, 0, 2, 0, 1, 1, 1, 2, 0, 1, 0, 0, 0, 2, 2, 1])\n"
          ],
          "name": "stdout"
        }
      ]
    },
    {
      "cell_type": "markdown",
      "metadata": {
        "id": "Z8CEBwAmp6Ba",
        "colab_type": "text"
      },
      "source": [
        "A nice thing about Pytorch is that, unlike in Keras, in pytorch you get to see the inside of the model and how it trains. This helps with learning about the how the model works.\n",
        "\n",
        "We will define a recurrent net with has word embedding layer, number of GRU units, size of hidden dimensions, and size of output layer."
      ]
    },
    {
      "cell_type": "markdown",
      "metadata": {
        "id": "mtOwW5dyrr7q",
        "colab_type": "text"
      },
      "source": [
        "## 4.3 Model building and training"
      ]
    },
    {
      "cell_type": "code",
      "metadata": {
        "id": "QpbDGyGxwVv_",
        "colab_type": "code",
        "colab": {}
      },
      "source": [
        "class GRUNet(nn.Module):\n",
        "    def __init__(self, vocab_size,embedding_dim, hidden_dim, output_dim, n_layers =1, drop_prob=0.3):\n",
        "        super(GRUNet, self).__init__()\n",
        "        self.hidden_dim = hidden_dim\n",
        "        self.n_layers = n_layers\n",
        "        \n",
        "        self.embedding = nn.Embedding(vocab_size,embedding_dim)\n",
        "        self.gru = nn.GRU(embedding_dim, hidden_dim, n_layers, batch_first=True, dropout=drop_prob)\n",
        "        self.fc = nn.Linear(hidden_dim, output_dim)\n",
        "        \n",
        "        self.sig = nn.Softmax()\n",
        "        \n",
        "    def forward(self, x, hidden):\n",
        "        embeds = self.embedding(x)\n",
        "        out, hidden = self.gru(embeds, hidden)\n",
        "        out = self.fc(out[:,-1])\n",
        "        out = self.sig(out)\n",
        "        return out, hidden\n",
        "    \n",
        "    def init_hidden(self, batch_size):\n",
        "        weight = next(self.parameters()).data\n",
        "        hidden = weight.new(self.n_layers, batch_size, self.hidden_dim).zero_().to(device)\n",
        "        return hidden"
      ],
      "execution_count": 0,
      "outputs": []
    },
    {
      "cell_type": "markdown",
      "metadata": {
        "id": "A0ZYqgJSsUx6",
        "colab_type": "text"
      },
      "source": [
        "We will send the model to GPU. GPU will help shorten the training time tremendously."
      ]
    },
    {
      "cell_type": "code",
      "metadata": {
        "id": "j1ocViRrwZFE",
        "colab_type": "code",
        "outputId": "2d303165-10c2-45e2-9827-2ec0cbe65bc8",
        "colab": {
          "base_uri": "https://localhost:8080/",
          "height": 118
        }
      },
      "source": [
        "vocab_size = len(list_vocab) + 1 #len(dict_str2int + 1 (for padding token = [0]))\n",
        "output_size = 3\n",
        "embedding_dim = 300 \n",
        "hidden_dim = 400\n",
        "n_layers = 2\n",
        "drop_prob = 0.5\n",
        "\n",
        "net = GRUNet(vocab_size,embedding_dim, hidden_dim,output_size, n_layers,drop_prob)\n",
        "\n",
        "net = net.to(device)"
      ],
      "execution_count": 0,
      "outputs": [
        {
          "output_type": "execute_result",
          "data": {
            "text/plain": [
              "GRUNet(\n",
              "  (embedding): Embedding(26078, 300)\n",
              "  (gru): GRU(300, 400, num_layers=2, batch_first=True, dropout=0.5)\n",
              "  (fc): Linear(in_features=400, out_features=3, bias=True)\n",
              "  (sig): Softmax(dim=None)\n",
              ")"
            ]
          },
          "metadata": {
            "tags": []
          },
          "execution_count": 40
        }
      ]
    },
    {
      "cell_type": "markdown",
      "metadata": {
        "id": "K2GvJgLdsjDz",
        "colab_type": "text"
      },
      "source": [
        "After defining the model, we now will define the optimizer and loss. "
      ]
    },
    {
      "cell_type": "code",
      "metadata": {
        "id": "o7qin8HQV1GX",
        "colab_type": "code",
        "outputId": "2e777c7c-0cfa-4513-9a11-4145ad6946a1",
        "colab": {
          "base_uri": "https://localhost:8080/",
          "height": 118
        }
      },
      "source": [
        "learning_rate = 0.00001\n",
        "weight_decay = 0.001\n",
        "criterion = nn.CrossEntropyLoss() #nn.NLLLoss()\n",
        "#criterion = nn.NLLLoss()\n",
        "optimizer = torch.optim.Adam(net.parameters(), lr=learning_rate,weight_decay=weight_decay)\n",
        "net"
      ],
      "execution_count": 0,
      "outputs": [
        {
          "output_type": "execute_result",
          "data": {
            "text/plain": [
              "GRUNet(\n",
              "  (embedding): Embedding(26078, 300)\n",
              "  (gru): GRU(300, 400, num_layers=2, batch_first=True, dropout=0.5)\n",
              "  (fc): Linear(in_features=400, out_features=3, bias=True)\n",
              "  (sig): Softmax(dim=None)\n",
              ")"
            ]
          },
          "metadata": {
            "tags": []
          },
          "execution_count": 49
        }
      ]
    },
    {
      "cell_type": "code",
      "metadata": {
        "id": "MJmTdMFXwtsl",
        "colab_type": "code",
        "colab": {}
      },
      "source": [
        "def measure_accu(torch_output,torch_label):\n",
        "  pred_array = torch.argmax(torch_output,axis=1).detach().cpu().numpy()\n",
        "  correct_array = torch_label.view(-1).cpu().numpy()\n",
        "  correct = np.where(pred_array == correct_array,1,0)\n",
        "  #print(correct)\n",
        "  return np.sum(correct)/len(correct)"
      ],
      "execution_count": 0,
      "outputs": []
    },
    {
      "cell_type": "code",
      "metadata": {
        "id": "JrLMsTYcVliy",
        "colab_type": "code",
        "colab": {}
      },
      "source": [
        "iter_val_loss = []\n",
        "iter_train_loss = []\n",
        "epoch_train_accu = []\n",
        "epoch_val_accu = []"
      ],
      "execution_count": 0,
      "outputs": []
    },
    {
      "cell_type": "markdown",
      "metadata": {
        "id": "1Swd3MTfstbF",
        "colab_type": "text"
      },
      "source": [
        "We will train the model for 20 epochs. Note that we need to do gradient clipping every iteration. The idea is to re-scale the gradient to prevent it from getting too large.\n",
        "\n",
        "This is to prevent gradient exploding problem. "
      ]
    },
    {
      "cell_type": "code",
      "metadata": {
        "id": "9rvYhyDxwpI-",
        "colab_type": "code",
        "outputId": "2e2b5e85-aaa9-4ad2-a98e-c84f82ab6a7f",
        "colab": {
          "base_uri": "https://localhost:8080/",
          "height": 1000
        }
      },
      "source": [
        "epochs = 20\n",
        "clip = 3\n",
        "print_every = 159 # = len(train_loader)\n",
        "count = 0\n",
        "\n",
        "\n",
        "net.train()\n",
        "for ite in range(epochs):\n",
        "    print('start epoch ')\n",
        "    start = timeit.default_timer()\n",
        "    temp_accu = []\n",
        "    for inputs, labels in train_loader:\n",
        "\n",
        "        count += 1\n",
        "        batch_size = inputs.shape[0]\n",
        "        inputs, labels = inputs.to(device), labels.to(device)\n",
        "        h = net.init_hidden(batch_size) #.to(device)\n",
        "        net.zero_grad()\n",
        "        \n",
        "        output,h = net(inputs,h)\n",
        "        temp_accu.append(measure_accu(output,labels))\n",
        "        loss = criterion(output, labels)\n",
        "        loss.backward()\n",
        "        \n",
        "        nn.utils.clip_grad_norm_(net.parameters(),clip)\n",
        "        optimizer.step()\n",
        "        \n",
        "        iter_train_loss.append(loss.item())\n",
        "\n",
        "        if count % print_every == 0:\n",
        "\n",
        "            val_losses = []\n",
        "            val_accu = []\n",
        "            net.eval()\n",
        "            for inputs_val, labels_val in val_loader:\n",
        "                batch_size = inputs_val.shape[0]\n",
        "                inputs_val, labels_val = inputs_val.to(device), labels_val.to(device)\n",
        "                val_h = net.init_hidden(batch_size) #.to(device)\n",
        "                \n",
        "                output_val, val_h = net(inputs_val,val_h)\n",
        "                \n",
        "                val_loss = criterion(output_val, labels_val)\n",
        "                \n",
        "                val_losses.append(val_loss.item())\n",
        "                val_accu.append(measure_accu(output_val,labels_val))\n",
        "                iter_val_loss.append(val_loss.item())\n",
        "            \n",
        "            epoch_val_accu.append(np.mean(val_accu))\n",
        "            stop = timeit.default_timer()\n",
        "            \n",
        "            net.train()\n",
        "            print('Epoch: {}/{}...'.format(ite + 1,epochs),\n",
        "                 'step: {}...'.format(count),\n",
        "                 'loss: {:.6f}...'.format(loss.item()),\n",
        "                 'val loss: {:.6f}'.format(np.mean(val_losses)))\n",
        "            del inputs,labels\n",
        "    epoch_train_accu.append(np.mean(temp_accu))\n",
        "    stop = timeit.default_timer()\n",
        "    print('one epoch takes {:.3f}'.format(stop - start))"
      ],
      "execution_count": 0,
      "outputs": [
        {
          "output_type": "stream",
          "text": [
            "start epoch \n"
          ],
          "name": "stdout"
        },
        {
          "output_type": "stream",
          "text": [
            "/usr/local/lib/python3.6/dist-packages/ipykernel_launcher.py:17: UserWarning: Implicit dimension choice for softmax has been deprecated. Change the call to include dim=X as an argument.\n"
          ],
          "name": "stderr"
        },
        {
          "output_type": "stream",
          "text": [
            "Epoch: 1/20... step: 159... loss: 0.639097... val loss: 0.797074\n",
            "one epoch takes 5.536\n",
            "start epoch \n",
            "Epoch: 2/20... step: 318... loss: 0.603204... val loss: 0.802459\n",
            "one epoch takes 5.520\n",
            "start epoch \n",
            "Epoch: 3/20... step: 477... loss: 0.662570... val loss: 0.798582\n",
            "one epoch takes 5.537\n",
            "start epoch \n",
            "Epoch: 4/20... step: 636... loss: 0.618116... val loss: 0.799298\n",
            "one epoch takes 5.486\n",
            "start epoch \n",
            "Epoch: 5/20... step: 795... loss: 0.601601... val loss: 0.798625\n",
            "one epoch takes 5.512\n",
            "start epoch \n",
            "Epoch: 6/20... step: 954... loss: 0.643404... val loss: 0.803875\n",
            "one epoch takes 5.524\n",
            "start epoch \n",
            "Epoch: 7/20... step: 1113... loss: 0.599640... val loss: 0.802888\n",
            "one epoch takes 5.525\n",
            "start epoch \n",
            "Epoch: 8/20... step: 1272... loss: 0.599972... val loss: 0.798667\n",
            "one epoch takes 5.544\n",
            "start epoch \n",
            "Epoch: 9/20... step: 1431... loss: 0.633334... val loss: 0.804388\n",
            "one epoch takes 5.534\n",
            "start epoch \n",
            "Epoch: 10/20... step: 1590... loss: 0.642718... val loss: 0.799941\n",
            "one epoch takes 5.545\n",
            "start epoch \n",
            "Epoch: 11/20... step: 1749... loss: 0.585173... val loss: 0.800599\n",
            "one epoch takes 5.489\n",
            "start epoch \n",
            "Epoch: 12/20... step: 1908... loss: 0.629835... val loss: 0.801930\n",
            "one epoch takes 5.509\n",
            "start epoch \n",
            "Epoch: 13/20... step: 2067... loss: 0.582539... val loss: 0.805265\n",
            "one epoch takes 5.525\n",
            "start epoch \n",
            "Epoch: 14/20... step: 2226... loss: 0.625760... val loss: 0.801004\n",
            "one epoch takes 5.522\n",
            "start epoch \n",
            "Epoch: 15/20... step: 2385... loss: 0.681899... val loss: 0.803423\n",
            "one epoch takes 5.522\n",
            "start epoch \n",
            "Epoch: 16/20... step: 2544... loss: 0.557136... val loss: 0.800993\n",
            "one epoch takes 5.520\n",
            "start epoch \n",
            "Epoch: 17/20... step: 2703... loss: 0.577202... val loss: 0.802166\n",
            "one epoch takes 5.540\n",
            "start epoch \n",
            "Epoch: 18/20... step: 2862... loss: 0.692896... val loss: 0.807039\n",
            "one epoch takes 5.497\n",
            "start epoch \n",
            "Epoch: 19/20... step: 3021... loss: 0.665762... val loss: 0.804176\n",
            "one epoch takes 5.515\n",
            "start epoch \n",
            "Epoch: 20/20... step: 3180... loss: 0.599873... val loss: 0.803388\n",
            "one epoch takes 5.530\n"
          ],
          "name": "stdout"
        }
      ]
    },
    {
      "cell_type": "code",
      "metadata": {
        "id": "xdoQiYuv6MXZ",
        "colab_type": "code",
        "outputId": "26a0e20f-2246-4853-af18-01669d56d2a2",
        "colab": {
          "base_uri": "https://localhost:8080/",
          "height": 282
        }
      },
      "source": [
        "plt.plot(epoch_train_accu)\n",
        "plt.plot(epoch_val_accu)"
      ],
      "execution_count": 0,
      "outputs": [
        {
          "output_type": "execute_result",
          "data": {
            "text/plain": [
              "[<matplotlib.lines.Line2D at 0x7f2b132acbe0>]"
            ]
          },
          "metadata": {
            "tags": []
          },
          "execution_count": 51
        },
        {
          "output_type": "display_data",
          "data": {
            "image/png": "[encoded data removed]",
            "text/plain": [
              "<Figure size 432x288 with 1 Axes>"
            ]
          },
          "metadata": {
            "tags": [],
            "needs_background": "light"
          }
        }
      ]
    },
    {
      "cell_type": "code",
      "metadata": {
        "id": "I-nsG48PwBx-",
        "colab_type": "code",
        "outputId": "892362da-02a8-46e0-b047-f374bf27575b",
        "colab": {
          "base_uri": "https://localhost:8080/",
          "height": 34
        }
      },
      "source": [
        "np.max(epoch_val_accu)"
      ],
      "execution_count": 0,
      "outputs": [
        {
          "output_type": "execute_result",
          "data": {
            "text/plain": [
              "0.7504119585687383"
            ]
          },
          "metadata": {
            "tags": []
          },
          "execution_count": 53
        }
      ]
    },
    {
      "cell_type": "markdown",
      "metadata": {
        "id": "3HIF3ATLu7EH",
        "colab_type": "text"
      },
      "source": [
        "So it seems that the recurrent neural net is decent but certainly not as good as the first two ML models. We do see overfitting in the training set, while the validation stays at about 0.75 accuracy.\n",
        "\n",
        "Again, the problem that we might be seeing here is the long dependency problem. "
      ]
    },
    {
      "cell_type": "markdown",
      "metadata": {
        "id": "atlXh4pVUgD5",
        "colab_type": "text"
      },
      "source": [
        "# 5. BERT classification\n",
        "\n",
        "Now finally we get to the last approach which is BERT (Bidirectional Encoder Representations from Transformers). I have written [here](https://github.com/VincentK1991/BERT_summarization_1) as a primer for BERT, so go check that out. In the previous repository, that is just using pre-trained BERT to do the embedding. In this case, we will fine-tune BERT for classification.\n",
        "\n",
        "The advantage of BERT over other models are several. First, BERT looks at sequence information and sentence level information. This is the advantage over TFIDF or Naive-Bayes. Second, BERT is pre-trained, so this is already a big advantage over the recurrent neural net that we made previously. Third is that BERT is bi-directional, meaning the flow of information can be from later sequence to the fron of sequence, unlike the recurrent neural network where information flow only from left to right. \n",
        "And finally, to solve the long-term dependency that is so problematic in the recurrent neural net, BERT has an attention mechanism that weight the importance of particular words to other surrounding words.\n",
        "\n",
        "\n",
        "What we need to do here for fine-tuning is to plug in the final layer, a fully-connected classification layer with the correct output size. This step is even simplified when we use the Hugging Face transformers package. We can simply import \"BertForSequenceClassification\", and the fully-connected layer is already there. We just specify the output size.\n",
        "\n",
        "The training strategy is also very simple. Just calculate the loss and do back-propagation."
      ]
    },
    {
      "cell_type": "markdown",
      "metadata": {
        "id": "YFJk4biFr3ge",
        "colab_type": "text"
      },
      "source": [
        "## 5.1 Packages and Libraries"
      ]
    },
    {
      "cell_type": "code",
      "metadata": {
        "id": "FBwW_P9GWpyp",
        "colab_type": "code",
        "outputId": "06e6d56b-4505-42cc-8ee7-541b32fe0fae",
        "colab": {
          "base_uri": "https://localhost:8080/",
          "height": 84
        }
      },
      "source": [
        "from sklearn.model_selection import train_test_split\n",
        "import torch\n",
        "import torch.nn as nn\n",
        "from torch.utils.data import TensorDataset, DataLoader\n",
        "import torch.nn.functional as F\n",
        "\n",
        "nltk.download('punkt')\n",
        "from nltk import sent_tokenize\n",
        "%tensorflow_version 1.x\n",
        "from keras.preprocessing.sequence import pad_sequences"
      ],
      "execution_count": 7,
      "outputs": [
        {
          "output_type": "stream",
          "text": [
            "[nltk_data] Downloading package punkt to /root/nltk_data...\n",
            "[nltk_data]   Unzipping tokenizers/punkt.zip.\n",
            "TensorFlow 1.x selected.\n"
          ],
          "name": "stdout"
        },
        {
          "output_type": "stream",
          "text": [
            "Using TensorFlow backend.\n"
          ],
          "name": "stderr"
        }
      ]
    },
    {
      "cell_type": "code",
      "metadata": {
        "id": "rxvdsLBeWp_a",
        "colab_type": "code",
        "outputId": "5fe843be-a2e5-42ca-fb47-112b6fd5ebca",
        "colab": {
          "base_uri": "https://localhost:8080/",
          "height": 675
        }
      },
      "source": [
        "!pip install transformers"
      ],
      "execution_count": 8,
      "outputs": [
        {
          "output_type": "stream",
          "text": [
            "Collecting transformers\n",
            "\u001b[?25l  Downloading https://files.pythonhosted.org/packages/a3/78/92cedda05552398352ed9784908b834ee32a0bd071a9b32de287327370b7/transformers-2.8.0-py3-none-any.whl (563kB)\n",
            "\u001b[K     |████████████████████████████████| 573kB 2.8MB/s \n",
            "\u001b[?25hRequirement already satisfied: regex!=2019.12.17 in /usr/local/lib/python3.6/dist-packages (from transformers) (2019.12.20)\n",
            "Collecting tokenizers==0.5.2\n",
            "\u001b[?25l  Downloading https://files.pythonhosted.org/packages/d1/3f/73c881ea4723e43c1e9acf317cf407fab3a278daab3a69c98dcac511c04f/tokenizers-0.5.2-cp36-cp36m-manylinux1_x86_64.whl (3.7MB)\n",
            "\u001b[K     |████████████████████████████████| 3.7MB 14.3MB/s \n",
            "\u001b[?25hRequirement already satisfied: numpy in /usr/local/lib/python3.6/dist-packages (from transformers) (1.18.2)\n",
            "Requirement already satisfied: tqdm>=4.27 in /usr/local/lib/python3.6/dist-packages (from transformers) (4.38.0)\n",
            "Collecting sacremoses\n",
            "\u001b[?25l  Downloading https://files.pythonhosted.org/packages/99/50/93509f906a40bffd7d175f97fd75ea328ad9bd91f48f59c4bd084c94a25e/sacremoses-0.0.41.tar.gz (883kB)\n",
            "\u001b[K     |████████████████████████████████| 890kB 33.2MB/s \n",
            "\u001b[?25hCollecting sentencepiece\n",
            "\u001b[?25l  Downloading https://files.pythonhosted.org/packages/74/f4/2d5214cbf13d06e7cb2c20d84115ca25b53ea76fa1f0ade0e3c9749de214/sentencepiece-0.1.85-cp36-cp36m-manylinux1_x86_64.whl (1.0MB)\n",
            "\u001b[K     |████████████████████████████████| 1.0MB 37.6MB/s \n",
            "\u001b[?25hRequirement already satisfied: requests in /usr/local/lib/python3.6/dist-packages (from transformers) (2.21.0)\n",
            "Requirement already satisfied: dataclasses; python_version < \"3.7\" in /usr/local/lib/python3.6/dist-packages (from transformers) (0.7)\n",
            "Requirement already satisfied: boto3 in /usr/local/lib/python3.6/dist-packages (from transformers) (1.12.38)\n",
            "Requirement already satisfied: filelock in /usr/local/lib/python3.6/dist-packages (from transformers) (3.0.12)\n",
            "Requirement already satisfied: six in /usr/local/lib/python3.6/dist-packages (from sacremoses->transformers) (1.12.0)\n",
            "Requirement already satisfied: click in /usr/local/lib/python3.6/dist-packages (from sacremoses->transformers) (7.1.1)\n",
            "Requirement already satisfied: joblib in /usr/local/lib/python3.6/dist-packages (from sacremoses->transformers) (0.14.1)\n",
            "Requirement already satisfied: certifi>=2017.4.17 in /usr/local/lib/python3.6/dist-packages (from requests->transformers) (2020.4.5.1)\n",
            "Requirement already satisfied: chardet<3.1.0,>=3.0.2 in /usr/local/lib/python3.6/dist-packages (from requests->transformers) (3.0.4)\n",
            "Requirement already satisfied: urllib3<1.25,>=1.21.1 in /usr/local/lib/python3.6/dist-packages (from requests->transformers) (1.24.3)\n",
            "Requirement already satisfied: idna<2.9,>=2.5 in /usr/local/lib/python3.6/dist-packages (from requests->transformers) (2.8)\n",
            "Requirement already satisfied: s3transfer<0.4.0,>=0.3.0 in /usr/local/lib/python3.6/dist-packages (from boto3->transformers) (0.3.3)\n",
            "Requirement already satisfied: botocore<1.16.0,>=1.15.38 in /usr/local/lib/python3.6/dist-packages (from boto3->transformers) (1.15.38)\n",
            "Requirement already satisfied: jmespath<1.0.0,>=0.7.1 in /usr/local/lib/python3.6/dist-packages (from boto3->transformers) (0.9.5)\n",
            "Requirement already satisfied: docutils<0.16,>=0.10 in /usr/local/lib/python3.6/dist-packages (from botocore<1.16.0,>=1.15.38->boto3->transformers) (0.15.2)\n",
            "Requirement already satisfied: python-dateutil<3.0.0,>=2.1 in /usr/local/lib/python3.6/dist-packages (from botocore<1.16.0,>=1.15.38->boto3->transformers) (2.8.1)\n",
            "Building wheels for collected packages: sacremoses\n",
            "  Building wheel for sacremoses (setup.py) ... \u001b[?25l\u001b[?25hdone\n",
            "  Created wheel for sacremoses: filename=sacremoses-0.0.41-cp36-none-any.whl size=893334 sha256=711e8a7ce364055ad142e5657dc31b8fe97042ff72feadacf6fe8792db982a74\n",
            "  Stored in directory: /root/.cache/pip/wheels/22/5a/d4/b020a81249de7dc63758a34222feaa668dbe8ebfe9170cc9b1\n",
            "Successfully built sacremoses\n",
            "Installing collected packages: tokenizers, sacremoses, sentencepiece, transformers\n",
            "Successfully installed sacremoses-0.0.41 sentencepiece-0.1.85 tokenizers-0.5.2 transformers-2.8.0\n"
          ],
          "name": "stdout"
        }
      ]
    },
    {
      "cell_type": "markdown",
      "metadata": {
        "id": "FmpCrB322erT",
        "colab_type": "text"
      },
      "source": [
        "Instead of making a new tokenizer ourselves,We will use BERTtokenizer so we don't need to train BERT from the beginning."
      ]
    },
    {
      "cell_type": "code",
      "metadata": {
        "id": "z-77p-BIW4FG",
        "colab_type": "code",
        "outputId": "8338bfec-347f-432c-e149-c66d86d887da",
        "colab": {
          "base_uri": "https://localhost:8080/",
          "height": 82,
          "referenced_widgets": [
            "435077a934514290beab55b75d0fa78b",
            "20ded56132d94ebba778351a4a028fcb",
            "8e7da2059d49492eaa24ff8772f17b7d",
            "883a9003f7474ba493cefe4dd29bf375",
            "1c4da6cab3ea40768e8da23754b25ba3",
            "897ec8088d6e4e7397f962350fad379b",
            "1611a20069824d3496897f18d37462f2",
            "dce497a099cb4ad2bf7f7a064060c10f"
          ]
        }
      },
      "source": [
        "from transformers import BertTokenizer\n",
        "\n",
        "# Load the BERT tokenizer.\n",
        "print('Loading BERT tokenizer...')\n",
        "tokenizer = BertTokenizer.from_pretrained('bert-base-uncased', do_lower_case=True)"
      ],
      "execution_count": 9,
      "outputs": [
        {
          "output_type": "stream",
          "text": [
            "Loading BERT tokenizer...\n"
          ],
          "name": "stdout"
        },
        {
          "output_type": "display_data",
          "data": {
            "application/vnd.jupyter.widget-view+json": {
              "model_id": "435077a934514290beab55b75d0fa78b",
              "version_minor": 0,
              "version_major": 2
            },
            "text/plain": [
              "HBox(children=(IntProgress(value=0, description='Downloading', max=231508, style=ProgressStyle(description_wid…"
            ]
          },
          "metadata": {
            "tags": []
          }
        },
        {
          "output_type": "stream",
          "text": [
            "\n"
          ],
          "name": "stdout"
        }
      ]
    },
    {
      "cell_type": "code",
      "metadata": {
        "id": "DtRNwXJXsoB2",
        "colab_type": "code",
        "colab": {
          "base_uri": "https://localhost:8080/",
          "height": 50
        },
        "outputId": "87017544-0c7e-4a77-9599-af885bc61918"
      },
      "source": [
        "if torch.cuda.is_available():    \n",
        "\n",
        "    # Tell PyTorch to use the GPU.    \n",
        "    device = torch.device(\"cuda\")\n",
        "    torch.backends.cudnn.benchmark = True\n",
        "    torch.backends.cudnn.enabled = True\n",
        "    print('There are %d GPU(s) available.' % torch.cuda.device_count())\n",
        "\n",
        "    print('We will use the GPU:', torch.cuda.get_device_name(0)) #hopefully we get Tesla P100 \n",
        "\n",
        "# If not...\n",
        "else:\n",
        "    print('No GPU available, using the CPU instead.')\n",
        "    device = torch.device(\"cpu\")"
      ],
      "execution_count": 51,
      "outputs": [
        {
          "output_type": "stream",
          "text": [
            "There are 1 GPU(s) available.\n",
            "We will use the GPU: Tesla P100-PCIE-16GB\n"
          ],
          "name": "stdout"
        }
      ]
    },
    {
      "cell_type": "markdown",
      "metadata": {
        "id": "HC4ysTUBsp-k",
        "colab_type": "text"
      },
      "source": [
        "## 5.2 Tokenization"
      ]
    },
    {
      "cell_type": "markdown",
      "metadata": {
        "id": "_UwwtNQ92-DW",
        "colab_type": "text"
      },
      "source": [
        "This step is for making numeric tokens, with padding and truncating. Also we need the special tokens [CLS] and [SEP] for marking the start and end of a text. We will also have an attention mask which tells the BERT model to ignore the padding [0]."
      ]
    },
    {
      "cell_type": "code",
      "metadata": {
        "id": "SqW8Tlq1W4K9",
        "colab_type": "code",
        "colab": {}
      },
      "source": [
        "def split_tokenize_formatting(paragraph,max_len=100):\n",
        "\n",
        "  input_tokens = []\n",
        "  for i in paragraph:\n",
        "    input_tokens.append(tokenizer.encode(i, add_special_tokens=True))\n",
        "  # temp = []\n",
        "  # for i in input_tokens:\n",
        "  #   temp.append(len(i))\n",
        "  # if np.max(temp) > max_len:\n",
        "  #   print('sentence longer than the max_len')\n",
        "  # if np.max(temp) > 512:\n",
        "  #   print('warning: sentence longer than 512')\n",
        "  #   print('suggest to change max_len to 512, the remainder will be truncated')\n",
        "  input_ids = pad_sequences(input_tokens, maxlen=max_len, dtype=\"long\", value=0, truncating=\"post\", padding=\"post\")\n",
        "\n",
        "  attention_masks = []\n",
        "  for sent in input_ids:\n",
        "    att_mask = [int(token_id > 0) for token_id in sent]  # create a list of 0 and 1.\n",
        "    attention_masks.append(att_mask)  # basically attention_masks is a list of list\n",
        "\n",
        "  input_ids = torch.tensor(input_ids)  \n",
        "  attention_mask = torch.tensor(attention_masks)\n",
        "\n",
        "  return input_ids, attention_mask"
      ],
      "execution_count": 0,
      "outputs": []
    },
    {
      "cell_type": "code",
      "metadata": {
        "id": "BIwfDGwVZn3y",
        "colab_type": "code",
        "colab": {}
      },
      "source": [
        "list_comment = list(train_resampled['text'].values)"
      ],
      "execution_count": 0,
      "outputs": []
    },
    {
      "cell_type": "code",
      "metadata": {
        "id": "ksYuf_U0Xc_8",
        "colab_type": "code",
        "outputId": "375abf6b-8d9d-4dd5-dac5-eb68ac6ce364",
        "colab": {
          "base_uri": "https://localhost:8080/",
          "height": 70
        }
      },
      "source": [
        "input_ids, attention_mask = split_tokenize_formatting(list_comment,100)"
      ],
      "execution_count": 12,
      "outputs": [
        {
          "output_type": "stream",
          "text": [
            "Token indices sequence length is longer than the specified maximum sequence length for this model (953 > 512). Running this sequence through the model will result in indexing errors\n",
            "Token indices sequence length is longer than the specified maximum sequence length for this model (640 > 512). Running this sequence through the model will result in indexing errors\n"
          ],
          "name": "stderr"
        }
      ]
    },
    {
      "cell_type": "code",
      "metadata": {
        "id": "fKPvzNJGXdD8",
        "colab_type": "code",
        "colab": {}
      },
      "source": [
        "all_label = torch.tensor(train_resampled['author.1'].values)"
      ],
      "execution_count": 0,
      "outputs": []
    },
    {
      "cell_type": "code",
      "metadata": {
        "id": "e6j6i8onXqLE",
        "colab_type": "code",
        "colab": {}
      },
      "source": [
        "input_train, input_val, label_train, label_val = train_test_split(input_ids, all_label, \n",
        "                                                                  test_size=0.1, random_state=42)\n",
        "mask_train, mask_val, label_train, label_val = train_test_split(attention_mask, all_label, \n",
        "                                                                  test_size=0.1, random_state=42)"
      ],
      "execution_count": 0,
      "outputs": []
    },
    {
      "cell_type": "code",
      "metadata": {
        "id": "hJ4rd0boXqWL",
        "colab_type": "code",
        "colab": {}
      },
      "source": [
        "batch_size = 100\n",
        "\n",
        "train_data = TensorDataset(input_train, mask_train, label_train)\n",
        "train_sampler = RandomSampler(train_data)\n",
        "train_loader = DataLoader(train_data, sampler=train_sampler, batch_size=batch_size)\n",
        "\n",
        "# Create the DataLoader for our validation set.\n",
        "validation_data = TensorDataset(input_val, mask_val, label_val)\n",
        "validation_sampler = SequentialSampler(validation_data)\n",
        "val_loader = DataLoader(validation_data, sampler=validation_sampler, batch_size=batch_size)"
      ],
      "execution_count": 0,
      "outputs": []
    },
    {
      "cell_type": "markdown",
      "metadata": {
        "id": "pQrFimk9suqc",
        "colab_type": "text"
      },
      "source": [
        "## 5.3 Model building and training"
      ]
    },
    {
      "cell_type": "markdown",
      "metadata": {
        "id": "ann4i4OT3iZr",
        "colab_type": "text"
      },
      "source": [
        "Note here that the version of BERT we'll use is \n",
        "**bert-base-uncased**. \n",
        "\n",
        "This model only contain lower-case characters. It has 12 layers, 768 hidden dimensions, and 110M parameters.\n",
        "\n",
        "\n"
      ]
    },
    {
      "cell_type": "code",
      "metadata": {
        "id": "haiL41ByXqTe",
        "colab_type": "code",
        "outputId": "b9c3dbcf-0544-46c9-fafc-592fa4caf6bb",
        "colab": {
          "base_uri": "https://localhost:8080/",
          "height": 114,
          "referenced_widgets": [
            "7e76b3c8b80e47ef88ce6995b02c64eb",
            "019feba27e704a94b624c1ab61c7c42e",
            "8f6b2b1ea6b14411a656df437b22de51",
            "0fc801e031b445a5a2d5f380564329ee",
            "2c4d0a28136d4565b67c1d80468fad58",
            "e79cfcef863147579fb81e829687fe5e",
            "c3edfb721ddc41ecaeaeda1b488a6dce",
            "bb56c0a2160f4c5faf1e9bce1e3a32c6",
            "d952ae7c9dcb43abbaac2c79a6d3bfcc",
            "9b1c5ca3e949471bad205c82f5a7b50b",
            "063767b2f78d409f9437be83a27e2d9e",
            "faab788fb8d1452aaf469674aca8a10c",
            "80262141e6ec475aa4abeaea8fe8af78",
            "60172a56642b4f8085a649aa1548d7f5",
            "4daf7cd67a3447658ab6027d4cb5e0ec",
            "2b7e4bc5fb6540a08da8ffd675346feb"
          ]
        }
      },
      "source": [
        "from transformers import BertForSequenceClassification, AdamW, BertConfig\n",
        "\n",
        "\n",
        "model = BertForSequenceClassification.from_pretrained(\n",
        "    \"bert-base-uncased\",\n",
        "    num_labels = 3,  \n",
        "    output_attentions = False,\n",
        "    output_hidden_states = False)\n",
        "#model.to(device)"
      ],
      "execution_count": 16,
      "outputs": [
        {
          "output_type": "display_data",
          "data": {
            "application/vnd.jupyter.widget-view+json": {
              "model_id": "7e76b3c8b80e47ef88ce6995b02c64eb",
              "version_minor": 0,
              "version_major": 2
            },
            "text/plain": [
              "HBox(children=(IntProgress(value=0, description='Downloading', max=361, style=ProgressStyle(description_width=…"
            ]
          },
          "metadata": {
            "tags": []
          }
        },
        {
          "output_type": "stream",
          "text": [
            "\n"
          ],
          "name": "stdout"
        },
        {
          "output_type": "display_data",
          "data": {
            "application/vnd.jupyter.widget-view+json": {
              "model_id": "d952ae7c9dcb43abbaac2c79a6d3bfcc",
              "version_minor": 0,
              "version_major": 2
            },
            "text/plain": [
              "HBox(children=(IntProgress(value=0, description='Downloading', max=440473133, style=ProgressStyle(description_…"
            ]
          },
          "metadata": {
            "tags": []
          }
        },
        {
          "output_type": "stream",
          "text": [
            "\n"
          ],
          "name": "stdout"
        }
      ]
    },
    {
      "cell_type": "code",
      "metadata": {
        "id": "tg9_gSVbXy5G",
        "colab_type": "code",
        "colab": {}
      },
      "source": [
        "from transformers import get_linear_schedule_with_warmup"
      ],
      "execution_count": 0,
      "outputs": []
    },
    {
      "cell_type": "markdown",
      "metadata": {
        "id": "X-8lrGJx4oqU",
        "colab_type": "text"
      },
      "source": [
        "### 5.3.1 objected-oriented class to help with training\n",
        "\n",
        "This code is just for keeping track of the parameters we will use for training the model. \n",
        "\n",
        "This will take quite a bit of time even with GPU, each epoch will take a couple of minutes to complete."
      ]
    },
    {
      "cell_type": "code",
      "metadata": {
        "id": "vIiZMisKlWr8",
        "colab_type": "code",
        "colab": {}
      },
      "source": [
        "class train_BERT(object):\n",
        "    def __init__(self,input_model,device,batch_train_dataXY,batch_val_dataXY,\n",
        "                 batch_test_dataXY=None,num_class=10,learning_rate=0.001,L2=0):\n",
        "        super(train_BERT,self).__init__()\n",
        "        \n",
        "        self.model = input_model #().apply(weights_init)\n",
        "        #self.model.apply(weights_init)\n",
        "        self.model.to(device)\n",
        "        self.train_loader = batch_train_dataXY\n",
        "        self.test_loader = batch_test_dataXY\n",
        "        self.val_loader = batch_val_dataXY\n",
        "        self.learning_rate = learning_rate\n",
        "        self.L2 = L2\n",
        "        self.optim = AdamW(self.model.parameters(), lr=self.learning_rate,eps=1e-08, weight_decay=self.L2)\n",
        "        # self.scheduler = get_linear_schedule_with_warmup(self.optim, \n",
        "        #                   num_warmup_steps = 0, # Default value in run_glue.py\n",
        "        #                   num_training_steps = train)\n",
        "\n",
        "        #self.criterion = nn.CrossEntropyLoss()\n",
        "        self.loss_train_list = []\n",
        "        self.loss_val_list = []\n",
        "        self.train_accu_list = []\n",
        "        self.val_accu_list = []\n",
        "        self.test_accu_list = []\n",
        "        self.total_epoch = 0\n",
        "    \n",
        "    def train(self,epochs,learning_rate=None,L2=None,eval_every=2,print_every=2):\n",
        "        if type(learning_rate) == float:\n",
        "          self.learning_rate = learning_rate\n",
        "\n",
        "        if type(L2) == float:\n",
        "          self.L2 = L2\n",
        "        self.set_new_rate()\n",
        "        scheduler = get_linear_schedule_with_warmup(self.optim, \n",
        "                    num_warmup_steps = 0, # Default value in run_glue.py\n",
        "                    num_training_steps = len(self.train_loader)*epochs)\n",
        "        for index_epoch in range(epochs):\n",
        "            temp_list = []\n",
        "            self.model.train()\n",
        "            for step, batch in enumerate(self.train_loader):\n",
        "\n",
        "                batch = tuple(t.to(device) for t in batch)\n",
        "                input_sent, input_masks, input_label = batch\n",
        "\n",
        "                self.optim.zero_grad()\n",
        "                outputs = self.model(input_sent, token_type_ids=None, \n",
        "                                    attention_mask=input_masks, labels=input_label)\n",
        "                loss = outputs[0]\n",
        "                temp_list.append(loss.item())\n",
        "                loss.backward()\n",
        "                torch.nn.utils.clip_grad_norm_(self.model.parameters(), 1.0)\n",
        "                self.optim.step()\n",
        "                scheduler.step()\n",
        "                del input_sent, input_masks, input_label, loss, outputs\n",
        "\n",
        "            self.loss_train_list.append(np.mean(temp_list))\n",
        "\n",
        "            if index_epoch > 0 and index_epoch % eval_every == 0:\n",
        "                self.model.eval()\n",
        "                temp_list = []\n",
        "                for batch in self.val_loader:\n",
        "                  batch = tuple(t.to(device) for t in batch)\n",
        "                  input_sent, input_masks, input_label = batch\n",
        "                  outputs = self.model(input_sent, token_type_ids=None, \n",
        "                                        attention_mask=input_masks, labels=input_label)\n",
        "                  \n",
        "                  loss = outputs[0]\n",
        "                  temp_list.append(loss.item())\n",
        "                  del input_sent, input_masks, input_label, loss, outputs\n",
        "\n",
        "            self.loss_val_list.append(np.mean(temp_list))\n",
        "        \n",
        "            train_accu= self.test_model(which_model='train')\n",
        "            val_accu = self.test_model(which_model='validation')\n",
        "            self.train_accu_list.append(train_accu)\n",
        "            self.val_accu_list.append(val_accu)\n",
        "            self.total_epoch += 1\n",
        "            if index_epoch % print_every == 0:\n",
        "                print('total epoch = ',self.total_epoch, ' train accuracy= ', self.train_accu_list[-1],'; val accuracy = ', \n",
        "                      self.val_accu_list[-1])\n",
        "    \n",
        "\n",
        "    def test_model(self,which_model='test'):\n",
        "        self.model.eval()  # eval mode (batchnorm uses moving mean/variance instead of mini-batch mean/variance)\n",
        "        \n",
        "        if which_model == 'train':\n",
        "          loader = self.train_loader\n",
        "        elif which_model == 'validation':\n",
        "          loader = self.val_loader\n",
        "        elif which_model == 'test':\n",
        "          loader = self.test_loader\n",
        "\n",
        "        with torch.no_grad():\n",
        "            num_correct = 0\n",
        "\n",
        "            for batch in loader:\n",
        "                batch = tuple(t.to(device) for t in batch)\n",
        "                input_sent, input_masks, input_label = batch\n",
        "\n",
        "                outputs = self.model(input_sent, token_type_ids=None, \n",
        "                                     attention_mask=input_masks, labels=input_label)\n",
        "                num_correct += self.count_accuracy(outputs[1],input_label)\n",
        "                del input_sent, input_masks, input_label,outputs\n",
        "        return (num_correct / len(loader))\n",
        "\n",
        "    def count_accuracy(self,preds,target):\n",
        "      preds = preds.detach().cpu().numpy()\n",
        "      target = target.cpu().numpy()\n",
        "      pred_flat = np.argmax(preds, axis=1).flatten()\n",
        "      labels_flat = target.flatten()\n",
        "      return np.sum(pred_flat == labels_flat)\n",
        "\n",
        "    def get_train_loss(self):\n",
        "        return self.loss_train_list\n",
        "    def get_val_loss(self):\n",
        "        return self.loss_val_list\n",
        "    def get_train_accu(self):\n",
        "        return self.train_accu_list\n",
        "    def get_test_accu(self):\n",
        "        return self.test_accu_list\n",
        "    def get_val_accu(self):\n",
        "        return self.val_accu_list\n",
        "    def get_params(self):\n",
        "        print(self.model)\n",
        "    def get_rate(self):\n",
        "        return self.learning_rate, self.L2\n",
        "    def get_model(self):\n",
        "        return self.model\n",
        "    def set_new_rate(self):\n",
        "      self.optim = AdamW(self.model.parameters(), lr=self.learning_rate,weight_decay=self.L2)"
      ],
      "execution_count": 0,
      "outputs": []
    },
    {
      "cell_type": "code",
      "metadata": {
        "id": "aATRJSwDRXB8",
        "colab_type": "code",
        "colab": {}
      },
      "source": [
        "trial1 = train_BERT(model,device,train_loader,val_loader,None,3,1e-5,1e-8)"
      ],
      "execution_count": 0,
      "outputs": []
    },
    {
      "cell_type": "code",
      "metadata": {
        "id": "eMbToxxeR08J",
        "colab_type": "code",
        "colab": {
          "base_uri": "https://localhost:8080/",
          "height": 101
        },
        "outputId": "d34f1478-979b-4082-a9e6-ca94cd3d3a21"
      },
      "source": [
        "trial1.train(5,eval_every=1,print_every=1)"
      ],
      "execution_count": 22,
      "outputs": [
        {
          "output_type": "stream",
          "text": [
            "total epoch =  1  train accuracy=  79.57516339869281 ; val accuracy =  77.47058823529412\n",
            "total epoch =  2  train accuracy=  85.56862745098039 ; val accuracy =  82.17647058823529\n",
            "total epoch =  3  train accuracy=  89.30065359477125 ; val accuracy =  84.17647058823529\n",
            "total epoch =  4  train accuracy=  91.359477124183 ; val accuracy =  84.6470588235294\n",
            "total epoch =  5  train accuracy=  91.91503267973856 ; val accuracy =  84.94117647058823\n"
          ],
          "name": "stdout"
        }
      ]
    },
    {
      "cell_type": "code",
      "metadata": {
        "id": "Ux5KPcEjSD2y",
        "colab_type": "code",
        "colab": {
          "base_uri": "https://localhost:8080/",
          "height": 421
        },
        "outputId": "8bd0601e-3c62-4172-9497-9f7268f9405a"
      },
      "source": [
        "fig,ax = plt.subplots(1,2,figsize=(12,6))\n",
        "ax[0].plot(trial1.get_train_accu(),label='train')\n",
        "ax[0].plot(trial1.get_val_accu(),label='validation')\n",
        "ax[0].set_title('BERT classification accuracy')\n",
        "ax[0].set_xlabel('epoch')\n",
        "ax[0].set_ylabel('accuracy')\n",
        "ax[0].legend()\n",
        "ax[1].plot(trial1.get_train_loss(),label='train')\n",
        "ax[1].plot(trial1.get_val_loss(),label='validation')\n",
        "ax[1].set_title('BERT classification loss')\n",
        "ax[1].set_xlabel('epoch')\n",
        "ax[1].set_ylabel('loss')\n",
        "ax[1].legend()"
      ],
      "execution_count": 32,
      "outputs": [
        {
          "output_type": "execute_result",
          "data": {
            "text/plain": [
              "<matplotlib.legend.Legend at 0x7ff43e2e50b8>"
            ]
          },
          "metadata": {
            "tags": []
          },
          "execution_count": 32
        },
        {
          "output_type": "display_data",
          "data": {
            "image/png": "[encoded data removed]",
            "text/plain": [
              "<Figure size 864x432 with 2 Axes>"
            ]
          },
          "metadata": {
            "tags": [],
            "needs_background": "light"
          }
        }
      ]
    },
    {
      "cell_type": "markdown",
      "metadata": {
        "id": "WL1MVeTG4xQp",
        "colab_type": "text"
      },
      "source": [
        "Result\n",
        "\n",
        "The validation accuracy is about 0.85. And it might get slightly better if one plays around with hyper-parameters, or simply train longer.  \n",
        "\n",
        "The result is much better than the recurrent neural net, but only marginally better than the Naive Bayes. The disadvantage of BERT is that, even with GPU, it still takes a long time to train."
      ]
    },
    {
      "cell_type": "markdown",
      "metadata": {
        "id": "icNBHkHh-LkI",
        "colab_type": "text"
      },
      "source": [
        "# 6. Citation\n",
        "\n",
        "[Naive Bayes](https://www.geeksforgeeks.org/naive-bayes-classifiers/)\n",
        "Basic article on Naive Bayes\n",
        "\n",
        "[GRU and LSTM blog](https://towardsdatascience.com/illustrated-guide-to-lstms-and-gru-s-a-step-by-step-explanation-44e9eb85bf21)\n",
        "nice illustration on how LSTM and GRU works. \n",
        "\n",
        "[overview of BERT fine-tuning](http://jalammar.github.io/illustrated-bert/)\n",
        "illustrated overview of language model fine-tuning, BERT, OpenAI GPT-2, ELMo. \n",
        "\n",
        "[BERT fine-tuning with codes](https://mccormickml.com/2019/07/22/BERT-fine-tuning/) Nice blogpost on BERT sequence classification. Very easy to read, has codes to follow, and has a lot of illustrations.\n",
        "\n",
        "[explaining Attention](https://lilianweng.github.io/lil-log/2018/06/24/attention-attention.html) This blog post does a pretty good job explaining various forms of attention mechanisms used in machine learning.\n",
        "\n",
        "[BERT's attention](https://www-nlp.stanford.edu/pubs/clark2019what.pdf)\n",
        "A paper analyzing how BERT's attention works.  "
      ]
    }
  ]
}